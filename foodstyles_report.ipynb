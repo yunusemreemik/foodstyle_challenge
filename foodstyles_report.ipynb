{
 "cells": [
  {
   "cell_type": "markdown",
   "id": "e2a1235b",
   "metadata": {},
   "source": [
    "# The<span style=\"color:orange\"> FoodStyles </span>Technical Challenge"
   ]
  },
  {
   "cell_type": "markdown",
   "id": "18de7a93",
   "metadata": {},
   "source": [
    "Yunus Emre Emik yunus_emre3497@hotmail.com"
   ]
  },
  {
   "cell_type": "markdown",
   "id": "dbf96223",
   "metadata": {},
   "source": [
    "https://github.com/yunusemreemik/foodstyle_challenge"
   ]
  },
  {
   "cell_type": "markdown",
   "id": "85b4a534",
   "metadata": {},
   "source": [
    "### The challenge\n",
    "You are given a dataset (assets/dataset.zip) containing information about restaurants all over Europe. The goal of the challenge is to make sense of the dataset and understand it in such a way that informed, data-based business decisions can be made. To make things easier, the challenge is split into three conceptually independent parts, with action points at each part. \n"
   ]
  },
  {
   "cell_type": "markdown",
   "id": "6ab420b1",
   "metadata": {},
   "source": [
    "#### Data cleaning\n",
    "1.\tIdentify the columns with mixed data types.\n",
    "2.\tFor each column, count the number of rows per data type.\n",
    "3.\tWould removing missing values solve the mixed data type problem?\n"
   ]
  },
  {
   "cell_type": "markdown",
   "id": "b1b282a1",
   "metadata": {},
   "source": [
    "## <span style=\"color:orange\">Data cleaning</span>"
   ]
  },
  {
   "cell_type": "markdown",
   "id": "4e9cdd43",
   "metadata": {},
   "source": [
    "## 1.\tIdentify the columns with mixed data types."
   ]
  },
  {
   "attachments": {},
   "cell_type": "markdown",
   "id": "d9b40dcf",
   "metadata": {},
   "source": [
    "Start with reading big data options. The \"assets\\dataset.csv\" including over a million data. The code is reading a CSV file called \"dataset.csv\" in chunks of 10000 rows using the pandas library. It then iterates through the chunks and prints the shape of each chunk. The iteration stops after reading the first 5 chunks."
   ]
  },
  {
   "cell_type": "code",
   "execution_count": 1,
   "id": "8b143b97",
   "metadata": {},
   "outputs": [],
   "source": [
    "import pandas as pd\n",
    "\n",
    "# Read the file in chunks of 1000 rows\n",
    "chunks = pd.read_csv(\"assets\\dataset.csv\", chunksize=10000)"
   ]
  },
  {
   "cell_type": "code",
   "execution_count": 2,
   "id": "293d28db",
   "metadata": {},
   "outputs": [
    {
     "name": "stdout",
     "output_type": "stream",
     "text": [
      "(10000, 42)\n",
      "(10000, 42)\n",
      "(10000, 42)\n",
      "(10000, 42)\n",
      "(10000, 42)\n"
     ]
    }
   ],
   "source": [
    "for i, chunk in enumerate(chunks):\n",
    "    # Do something with the chunk\n",
    "    #print(chunk.head())\n",
    "    print(chunk.shape)\n",
    "    # stop after reading 5 chunks\n",
    "    if i == 4:\n",
    "        break\n"
   ]
  },
  {
   "cell_type": "code",
   "execution_count": 3,
   "id": "09e71f15",
   "metadata": {},
   "outputs": [
    {
     "name": "stderr",
     "output_type": "stream",
     "text": [
      "C:\\Users\\YUNUS\\AppData\\Local\\Temp\\ipykernel_6644\\85703189.py:4: DtypeWarning: Columns (4) have mixed types. Specify dtype option on import or set low_memory=False.\n",
      "  full_data = pd.read_csv(\"assets\\dataset.csv\")\n"
     ]
    }
   ],
   "source": [
    "#Use nrows count only\n",
    "#df = pd.read_csv(\"assets\\dataset.csv\", nrows=100000)\n",
    "#Use all of data once.\n",
    "full_data = pd.read_csv(\"assets\\dataset.csv\")"
   ]
  },
  {
   "cell_type": "code",
   "execution_count": 4,
   "id": "3e01f0a7",
   "metadata": {
    "scrolled": true
   },
   "outputs": [
    {
     "name": "stdout",
     "output_type": "stream",
     "text": [
      "<class 'pandas.core.frame.DataFrame'>\n",
      "RangeIndex: 1083397 entries, 0 to 1083396\n",
      "Data columns (total 42 columns):\n",
      " #   Column                             Non-Null Count    Dtype  \n",
      "---  ------                             --------------    -----  \n",
      " 0   restaurant_link                    1083397 non-null  object \n",
      " 1   restaurant_name                    1083397 non-null  object \n",
      " 2   original_location                  1083397 non-null  object \n",
      " 3   country                            1083397 non-null  object \n",
      " 4   region                             1033074 non-null  object \n",
      " 5   province                           742765 non-null   object \n",
      " 6   city                               682712 non-null   object \n",
      " 7   address                            1083397 non-null  object \n",
      " 8   latitude                           1067607 non-null  float64\n",
      " 9   longitude                          1067607 non-null  float64\n",
      " 10  claimed                            1081555 non-null  object \n",
      " 11  awards                             263133 non-null   object \n",
      " 12  popularity_detailed                988409 non-null   object \n",
      " 13  popularity_generic                 985605 non-null   object \n",
      " 14  top_tags                           972763 non-null   object \n",
      " 15  price_level                        806192 non-null   object \n",
      " 16  price_range                        304327 non-null   object \n",
      " 17  meals                              635347 non-null   object \n",
      " 18  cuisines                           914294 non-null   object \n",
      " 19  special_diets                      340256 non-null   object \n",
      " 20  features                           317407 non-null   object \n",
      " 21  vegetarian_friendly                1083397 non-null  object \n",
      " 22  vegan_options                      1083397 non-null  object \n",
      " 23  gluten_free                        1083397 non-null  object \n",
      " 24  original_open_hours                593832 non-null   object \n",
      " 25  open_days_per_week                 593832 non-null   float64\n",
      " 26  open_hours_per_week                593832 non-null   float64\n",
      " 27  working_shifts_per_week            593832 non-null   float64\n",
      " 28  avg_rating                         986761 non-null   float64\n",
      " 29  total_reviews_count                1031162 non-null  float64\n",
      " 30  default_language                   988204 non-null   object \n",
      " 31  reviews_count_in_default_language  988204 non-null   float64\n",
      " 32  excellent                          988204 non-null   float64\n",
      " 33  very_good                          988204 non-null   float64\n",
      " 34  average                            988204 non-null   float64\n",
      " 35  poor                               988204 non-null   float64\n",
      " 36  terrible                           988204 non-null   float64\n",
      " 37  food                               599325 non-null   float64\n",
      " 38  service                            604287 non-null   float64\n",
      " 39  value                              602692 non-null   float64\n",
      " 40  atmosphere                         261785 non-null   float64\n",
      " 41  keywords                           99198 non-null    object \n",
      "dtypes: float64(17), object(25)\n",
      "memory usage: 347.2+ MB\n"
     ]
    }
   ],
   "source": [
    "full_data.info()"
   ]
  },
  {
   "cell_type": "markdown",
   "id": "15a14847",
   "metadata": {},
   "source": [
    "The first 7 features appear to be solid and reliable for identifying a unique restaurant row. However, the data seems to be mixed and needs to be controlled for each row. "
   ]
  },
  {
   "cell_type": "markdown",
   "id": "0f4e52c3",
   "metadata": {},
   "source": [
    "## 2.\tFor each column, count the number of rows per data type."
   ]
  },
  {
   "cell_type": "code",
   "execution_count": 5,
   "id": "aefa5f33",
   "metadata": {
    "scrolled": true
   },
   "outputs": [
    {
     "name": "stdout",
     "output_type": "stream",
     "text": [
      "<class 'str'>    1083397\n",
      "Name: restaurant_link, dtype: int64\n",
      "<class 'str'>    1083397\n",
      "Name: restaurant_name, dtype: int64\n",
      "<class 'str'>    1083397\n",
      "Name: original_location, dtype: int64\n",
      "<class 'str'>    1083397\n",
      "Name: country, dtype: int64\n",
      "<class 'str'>      1033074\n",
      "<class 'float'>      50323\n",
      "Name: region, dtype: int64\n",
      "<class 'str'>      742765\n",
      "<class 'float'>    340632\n",
      "Name: province, dtype: int64\n",
      "<class 'str'>      682712\n",
      "<class 'float'>    400685\n",
      "Name: city, dtype: int64\n",
      "<class 'str'>    1083397\n",
      "Name: address, dtype: int64\n",
      "<class 'float'>    1083397\n",
      "Name: latitude, dtype: int64\n",
      "<class 'float'>    1083397\n",
      "Name: longitude, dtype: int64\n",
      "<class 'str'>      1081555\n",
      "<class 'float'>       1842\n",
      "Name: claimed, dtype: int64\n",
      "<class 'float'>    820264\n",
      "<class 'str'>      263133\n",
      "Name: awards, dtype: int64\n",
      "<class 'str'>      988409\n",
      "<class 'float'>     94988\n",
      "Name: popularity_detailed, dtype: int64\n",
      "<class 'str'>      985605\n",
      "<class 'float'>     97792\n",
      "Name: popularity_generic, dtype: int64\n",
      "<class 'str'>      972763\n",
      "<class 'float'>    110634\n",
      "Name: top_tags, dtype: int64\n",
      "<class 'str'>      806192\n",
      "<class 'float'>    277205\n",
      "Name: price_level, dtype: int64\n",
      "<class 'float'>    779070\n",
      "<class 'str'>      304327\n",
      "Name: price_range, dtype: int64\n",
      "<class 'str'>      635347\n",
      "<class 'float'>    448050\n",
      "Name: meals, dtype: int64\n",
      "<class 'str'>      914294\n",
      "<class 'float'>    169103\n",
      "Name: cuisines, dtype: int64\n",
      "<class 'float'>    743141\n",
      "<class 'str'>      340256\n",
      "Name: special_diets, dtype: int64\n",
      "<class 'float'>    765990\n",
      "<class 'str'>      317407\n",
      "Name: features, dtype: int64\n",
      "<class 'str'>    1083397\n",
      "Name: vegetarian_friendly, dtype: int64\n",
      "<class 'str'>    1083397\n",
      "Name: vegan_options, dtype: int64\n",
      "<class 'str'>    1083397\n",
      "Name: gluten_free, dtype: int64\n",
      "<class 'str'>      593832\n",
      "<class 'float'>    489565\n",
      "Name: original_open_hours, dtype: int64\n",
      "<class 'float'>    1083397\n",
      "Name: open_days_per_week, dtype: int64\n",
      "<class 'float'>    1083397\n",
      "Name: open_hours_per_week, dtype: int64\n",
      "<class 'float'>    1083397\n",
      "Name: working_shifts_per_week, dtype: int64\n",
      "<class 'float'>    1083397\n",
      "Name: avg_rating, dtype: int64\n",
      "<class 'float'>    1083397\n",
      "Name: total_reviews_count, dtype: int64\n",
      "<class 'str'>      988204\n",
      "<class 'float'>     95193\n",
      "Name: default_language, dtype: int64\n",
      "<class 'float'>    1083397\n",
      "Name: reviews_count_in_default_language, dtype: int64\n",
      "<class 'float'>    1083397\n",
      "Name: excellent, dtype: int64\n",
      "<class 'float'>    1083397\n",
      "Name: very_good, dtype: int64\n",
      "<class 'float'>    1083397\n",
      "Name: average, dtype: int64\n",
      "<class 'float'>    1083397\n",
      "Name: poor, dtype: int64\n",
      "<class 'float'>    1083397\n",
      "Name: terrible, dtype: int64\n",
      "<class 'float'>    1083397\n",
      "Name: food, dtype: int64\n",
      "<class 'float'>    1083397\n",
      "Name: service, dtype: int64\n",
      "<class 'float'>    1083397\n",
      "Name: value, dtype: int64\n",
      "<class 'float'>    1083397\n",
      "Name: atmosphere, dtype: int64\n",
      "<class 'float'>    984199\n",
      "<class 'str'>       99198\n",
      "Name: keywords, dtype: int64\n"
     ]
    }
   ],
   "source": [
    "# Apply type method for each row and get count.\n",
    "for col in full_data.columns:    \n",
    "    data_types = full_data[col].apply(type).value_counts()\n",
    "    print(data_types)\n",
    "    "
   ]
  },
  {
   "cell_type": "code",
   "execution_count": 6,
   "id": "186be8d4",
   "metadata": {},
   "outputs": [
    {
     "data": {
      "text/plain": [
       "['Saint-Jouvent',\n",
       " 'Rivarennes',\n",
       " 'Lacelle',\n",
       " 'Saint-Laurent-de-Levezou',\n",
       " 'Le Crozet',\n",
       " 'Saint-Denis',\n",
       " 'Orgibet',\n",
       " 'They-sous-Montfort',\n",
       " 'Journans',\n",
       " 'Rocbaron',\n",
       " 'Le Bec-Hellouin',\n",
       " 'Lanslebourg Mont Cenis',\n",
       " 'Valhuon',\n",
       " 'Saint-Bonnet en Champsaur',\n",
       " 'Saint-Martin-du-Bois',\n",
       " 'St Suliac',\n",
       " 'Espaly-Saint-Marcel',\n",
       " 'Meaulte',\n",
       " 'Conflans Sainte Honorine']"
      ]
     },
     "execution_count": 6,
     "metadata": {},
     "output_type": "execute_result"
    }
   ],
   "source": [
    "full_data[\"city\"].head(100).unique().tolist()"
   ]
  },
  {
   "cell_type": "code",
   "execution_count": 7,
   "id": "c1b2b454",
   "metadata": {},
   "outputs": [
    {
     "data": {
      "text/html": [
       "<div>\n",
       "<style scoped>\n",
       "    .dataframe tbody tr th:only-of-type {\n",
       "        vertical-align: middle;\n",
       "    }\n",
       "\n",
       "    .dataframe tbody tr th {\n",
       "        vertical-align: top;\n",
       "    }\n",
       "\n",
       "    .dataframe thead th {\n",
       "        text-align: right;\n",
       "    }\n",
       "</style>\n",
       "<table border=\"1\" class=\"dataframe\">\n",
       "  <thead>\n",
       "    <tr style=\"text-align: right;\">\n",
       "      <th></th>\n",
       "      <th>restaurant_link</th>\n",
       "      <th>restaurant_name</th>\n",
       "      <th>original_location</th>\n",
       "      <th>country</th>\n",
       "      <th>region</th>\n",
       "      <th>province</th>\n",
       "      <th>city</th>\n",
       "      <th>address</th>\n",
       "      <th>latitude</th>\n",
       "      <th>longitude</th>\n",
       "      <th>...</th>\n",
       "      <th>excellent</th>\n",
       "      <th>very_good</th>\n",
       "      <th>average</th>\n",
       "      <th>poor</th>\n",
       "      <th>terrible</th>\n",
       "      <th>food</th>\n",
       "      <th>service</th>\n",
       "      <th>value</th>\n",
       "      <th>atmosphere</th>\n",
       "      <th>keywords</th>\n",
       "    </tr>\n",
       "  </thead>\n",
       "  <tbody>\n",
       "    <tr>\n",
       "      <th>213530</th>\n",
       "      <td>g187309-d21233601</td>\n",
       "      <td>Bento Nguyen</td>\n",
       "      <td>[\"Europe\", \"Germany\", \"Bavaria\", \"Upper Bavari...</td>\n",
       "      <td>Germany</td>\n",
       "      <td>Bavaria</td>\n",
       "      <td>Upper Bavaria</td>\n",
       "      <td>Munich</td>\n",
       "      <td>Schleissheimer Str. 221, 80809 Munich, Bavaria...</td>\n",
       "      <td>48.173590</td>\n",
       "      <td>11.565110</td>\n",
       "      <td>...</td>\n",
       "      <td>NaN</td>\n",
       "      <td>NaN</td>\n",
       "      <td>NaN</td>\n",
       "      <td>NaN</td>\n",
       "      <td>NaN</td>\n",
       "      <td>NaN</td>\n",
       "      <td>NaN</td>\n",
       "      <td>NaN</td>\n",
       "      <td>NaN</td>\n",
       "      <td>NaN</td>\n",
       "    </tr>\n",
       "    <tr>\n",
       "      <th>213739</th>\n",
       "      <td>g187309-d2368220</td>\n",
       "      <td>Bento Nguyen</td>\n",
       "      <td>[\"Europe\", \"Germany\", \"Bavaria\", \"Upper Bavari...</td>\n",
       "      <td>Germany</td>\n",
       "      <td>Bavaria</td>\n",
       "      <td>Upper Bavaria</td>\n",
       "      <td>Munich</td>\n",
       "      <td>Paul-Heyse-Str. 2, 80336 Munich, Bavaria Germany</td>\n",
       "      <td>48.138897</td>\n",
       "      <td>11.556104</td>\n",
       "      <td>...</td>\n",
       "      <td>11.0</td>\n",
       "      <td>16.0</td>\n",
       "      <td>4.0</td>\n",
       "      <td>0.0</td>\n",
       "      <td>2.0</td>\n",
       "      <td>4.0</td>\n",
       "      <td>4.5</td>\n",
       "      <td>4.5</td>\n",
       "      <td>NaN</td>\n",
       "      <td>NaN</td>\n",
       "    </tr>\n",
       "  </tbody>\n",
       "</table>\n",
       "<p>2 rows × 42 columns</p>\n",
       "</div>"
      ],
      "text/plain": [
       "          restaurant_link restaurant_name  \\\n",
       "213530  g187309-d21233601    Bento Nguyen   \n",
       "213739   g187309-d2368220    Bento Nguyen   \n",
       "\n",
       "                                        original_location  country   region  \\\n",
       "213530  [\"Europe\", \"Germany\", \"Bavaria\", \"Upper Bavari...  Germany  Bavaria   \n",
       "213739  [\"Europe\", \"Germany\", \"Bavaria\", \"Upper Bavari...  Germany  Bavaria   \n",
       "\n",
       "             province    city  \\\n",
       "213530  Upper Bavaria  Munich   \n",
       "213739  Upper Bavaria  Munich   \n",
       "\n",
       "                                                  address   latitude  \\\n",
       "213530  Schleissheimer Str. 221, 80809 Munich, Bavaria...  48.173590   \n",
       "213739   Paul-Heyse-Str. 2, 80336 Munich, Bavaria Germany  48.138897   \n",
       "\n",
       "        longitude  ... excellent very_good average poor terrible food service  \\\n",
       "213530  11.565110  ...       NaN       NaN     NaN  NaN      NaN  NaN     NaN   \n",
       "213739  11.556104  ...      11.0      16.0     4.0  0.0      2.0  4.0     4.5   \n",
       "\n",
       "       value atmosphere keywords  \n",
       "213530   NaN        NaN      NaN  \n",
       "213739   4.5        NaN      NaN  \n",
       "\n",
       "[2 rows x 42 columns]"
      ]
     },
     "execution_count": 7,
     "metadata": {},
     "output_type": "execute_result"
    }
   ],
   "source": [
    "\n",
    "full_data[full_data[\"restaurant_name\"].str.contains(\"Bento Nguyen\")]"
   ]
  },
  {
   "cell_type": "markdown",
   "id": "5ff20354",
   "metadata": {},
   "source": [
    "## 3.\tWould removing missing values solve the mixed data type problem?"
   ]
  },
  {
   "cell_type": "code",
   "execution_count": 8,
   "id": "2332a2de",
   "metadata": {},
   "outputs": [
    {
     "data": {
      "text/plain": [
       "array([4.5, nan, 3.5, 4. , 5. , 3. , 2.5, 2. , 1.5, 1. ])"
      ]
     },
     "execution_count": 8,
     "metadata": {},
     "output_type": "execute_result"
    }
   ],
   "source": [
    "#mixed columns\n",
    "full_data[\"service\"].unique()"
   ]
  },
  {
   "cell_type": "markdown",
   "id": "684bcd20",
   "metadata": {},
   "source": [
    "This is a Python function that takes in a DataFrame as an input (df) and modifies it to fix mixed data types and missing values. The function first loops through all the columns in the DataFrame and checks if each column has mixed data types. If it does, the function converts the column to a specific data type. If the missing value ratio is greater than or equal to 0.5, it converts the column to string type, otherwise it converts the column to the data type that has the most observations.\n",
    "\n",
    "After fixing mixed data types, the function then uses IterativeImputer from the sklearn library to fix missing values in the numeric columns (float64 and int64). IterativeImputer is a method that can estimate missing values by modeling each feature with missing values as a function of other features in a round-robin fashion.\n"
   ]
  },
  {
   "cell_type": "code",
   "execution_count": 9,
   "id": "745efad7",
   "metadata": {},
   "outputs": [],
   "source": [
    "from sklearn.experimental import enable_iterative_imputer\n",
    "from sklearn.impute import IterativeImputer,SimpleImputer\n",
    "from sklearn.linear_model import BayesianRidge\n",
    "\n",
    "def fix_mixed_data(data):\n",
    "    # Fix mixed data types\n",
    "    for col in data.columns:\n",
    "        try:\n",
    "            # Check if the column has mixed data types\n",
    "            if len(data[col].apply(type).value_counts()) > 1:\n",
    "                # Convert the column to a specific data type\n",
    "                if data[col].isna().mean() >= 0.5:\n",
    "                    data[col] = data[col].astype('str')\n",
    "                else:\n",
    "                    data[col] = data[col].astype(data[col].apply(type).value_counts().axes[0][0])\n",
    "        except Exception as e:\n",
    "            pass\n",
    "    \n",
    "    return data\n",
    "\n",
    "def fix_nulls(data):\n",
    "    # Fix missing values\n",
    "    imputer = IterativeImputer(BayesianRidge(), max_iter=10, random_state=0)\n",
    "    most_f_imputer = SimpleImputer(strategy='most_frequent')\n",
    "    for col in data.columns:\n",
    "        if data[col].dtypes in ['float64', 'int64']:\n",
    "            data[[col]] = imputer.fit_transform(data[[col]])\n",
    "        else: \n",
    "            data[[col]] = most_f_imputer.fit_transform(data[[col]])\n",
    "    \n",
    "    return data"
   ]
  },
  {
   "cell_type": "markdown",
   "id": "69ed8f2d",
   "metadata": {},
   "source": [
    "Finally, the function returns the modified DataFrame."
   ]
  },
  {
   "cell_type": "code",
   "execution_count": 10,
   "id": "fa6694a3",
   "metadata": {},
   "outputs": [],
   "source": [
    "fixed_df = fix_nulls(full_data)"
   ]
  },
  {
   "cell_type": "code",
   "execution_count": 11,
   "id": "ac1e41d4",
   "metadata": {},
   "outputs": [],
   "source": [
    "clean_df =  fix_mixed_data(fixed_df)"
   ]
  },
  {
   "cell_type": "code",
   "execution_count": 12,
   "id": "5236b74f",
   "metadata": {},
   "outputs": [
    {
     "data": {
      "text/plain": [
       "array([4.5       , 4.06724537, 3.5       , 4.        , 5.        ,\n",
       "       3.        , 2.5       , 2.        , 1.5       , 1.        ])"
      ]
     },
     "execution_count": 12,
     "metadata": {},
     "output_type": "execute_result"
    }
   ],
   "source": [
    "#mixed columns\n",
    "clean_df[\"service\"].unique()"
   ]
  },
  {
   "cell_type": "code",
   "execution_count": 13,
   "id": "e148b2cf",
   "metadata": {
    "scrolled": true
   },
   "outputs": [
    {
     "name": "stdout",
     "output_type": "stream",
     "text": [
      "<class 'pandas.core.frame.DataFrame'>\n",
      "RangeIndex: 1083397 entries, 0 to 1083396\n",
      "Data columns (total 42 columns):\n",
      " #   Column                             Non-Null Count    Dtype  \n",
      "---  ------                             --------------    -----  \n",
      " 0   restaurant_link                    1083397 non-null  object \n",
      " 1   restaurant_name                    1083397 non-null  object \n",
      " 2   original_location                  1083397 non-null  object \n",
      " 3   country                            1083397 non-null  object \n",
      " 4   region                             1083397 non-null  object \n",
      " 5   province                           1083397 non-null  object \n",
      " 6   city                               1083397 non-null  object \n",
      " 7   address                            1083397 non-null  object \n",
      " 8   latitude                           1083397 non-null  float64\n",
      " 9   longitude                          1083397 non-null  float64\n",
      " 10  claimed                            1083397 non-null  object \n",
      " 11  awards                             1083397 non-null  object \n",
      " 12  popularity_detailed                1083397 non-null  object \n",
      " 13  popularity_generic                 1083397 non-null  object \n",
      " 14  top_tags                           1083397 non-null  object \n",
      " 15  price_level                        1083397 non-null  object \n",
      " 16  price_range                        1083397 non-null  object \n",
      " 17  meals                              1083397 non-null  object \n",
      " 18  cuisines                           1083397 non-null  object \n",
      " 19  special_diets                      1083397 non-null  object \n",
      " 20  features                           1083397 non-null  object \n",
      " 21  vegetarian_friendly                1083397 non-null  object \n",
      " 22  vegan_options                      1083397 non-null  object \n",
      " 23  gluten_free                        1083397 non-null  object \n",
      " 24  original_open_hours                1083397 non-null  object \n",
      " 25  open_days_per_week                 1083397 non-null  float64\n",
      " 26  open_hours_per_week                1083397 non-null  float64\n",
      " 27  working_shifts_per_week            1083397 non-null  float64\n",
      " 28  avg_rating                         1083397 non-null  float64\n",
      " 29  total_reviews_count                1083397 non-null  float64\n",
      " 30  default_language                   1083397 non-null  object \n",
      " 31  reviews_count_in_default_language  1083397 non-null  float64\n",
      " 32  excellent                          1083397 non-null  float64\n",
      " 33  very_good                          1083397 non-null  float64\n",
      " 34  average                            1083397 non-null  float64\n",
      " 35  poor                               1083397 non-null  float64\n",
      " 36  terrible                           1083397 non-null  float64\n",
      " 37  food                               1083397 non-null  float64\n",
      " 38  service                            1083397 non-null  float64\n",
      " 39  value                              1083397 non-null  float64\n",
      " 40  atmosphere                         1083397 non-null  float64\n",
      " 41  keywords                           1083397 non-null  object \n",
      "dtypes: float64(17), object(25)\n",
      "memory usage: 347.2+ MB\n"
     ]
    }
   ],
   "source": [
    "clean_df.info()"
   ]
  },
  {
   "cell_type": "code",
   "execution_count": 14,
   "id": "60868453",
   "metadata": {
    "scrolled": true
   },
   "outputs": [
    {
     "name": "stdout",
     "output_type": "stream",
     "text": [
      "<class 'str'>    1083397\n",
      "Name: restaurant_link, dtype: int64\n",
      "<class 'str'>    1083397\n",
      "Name: restaurant_name, dtype: int64\n",
      "<class 'str'>    1083397\n",
      "Name: original_location, dtype: int64\n",
      "<class 'str'>    1083397\n",
      "Name: country, dtype: int64\n",
      "<class 'str'>    1083397\n",
      "Name: region, dtype: int64\n",
      "<class 'str'>    1083397\n",
      "Name: province, dtype: int64\n",
      "<class 'str'>    1083397\n",
      "Name: city, dtype: int64\n",
      "<class 'str'>    1083397\n",
      "Name: address, dtype: int64\n",
      "<class 'float'>    1083397\n",
      "Name: latitude, dtype: int64\n",
      "<class 'float'>    1083397\n",
      "Name: longitude, dtype: int64\n",
      "<class 'str'>    1083397\n",
      "Name: claimed, dtype: int64\n",
      "<class 'str'>    1083397\n",
      "Name: awards, dtype: int64\n",
      "<class 'str'>    1083397\n",
      "Name: popularity_detailed, dtype: int64\n",
      "<class 'str'>    1083397\n",
      "Name: popularity_generic, dtype: int64\n",
      "<class 'str'>    1083397\n",
      "Name: top_tags, dtype: int64\n",
      "<class 'str'>    1083397\n",
      "Name: price_level, dtype: int64\n",
      "<class 'str'>    1083397\n",
      "Name: price_range, dtype: int64\n",
      "<class 'str'>    1083397\n",
      "Name: meals, dtype: int64\n",
      "<class 'str'>    1083397\n",
      "Name: cuisines, dtype: int64\n",
      "<class 'str'>    1083397\n",
      "Name: special_diets, dtype: int64\n",
      "<class 'str'>    1083397\n",
      "Name: features, dtype: int64\n",
      "<class 'str'>    1083397\n",
      "Name: vegetarian_friendly, dtype: int64\n",
      "<class 'str'>    1083397\n",
      "Name: vegan_options, dtype: int64\n",
      "<class 'str'>    1083397\n",
      "Name: gluten_free, dtype: int64\n",
      "<class 'str'>    1083397\n",
      "Name: original_open_hours, dtype: int64\n",
      "<class 'float'>    1083397\n",
      "Name: open_days_per_week, dtype: int64\n",
      "<class 'float'>    1083397\n",
      "Name: open_hours_per_week, dtype: int64\n",
      "<class 'float'>    1083397\n",
      "Name: working_shifts_per_week, dtype: int64\n",
      "<class 'float'>    1083397\n",
      "Name: avg_rating, dtype: int64\n",
      "<class 'float'>    1083397\n",
      "Name: total_reviews_count, dtype: int64\n",
      "<class 'str'>    1083397\n",
      "Name: default_language, dtype: int64\n",
      "<class 'float'>    1083397\n",
      "Name: reviews_count_in_default_language, dtype: int64\n",
      "<class 'float'>    1083397\n",
      "Name: excellent, dtype: int64\n",
      "<class 'float'>    1083397\n",
      "Name: very_good, dtype: int64\n",
      "<class 'float'>    1083397\n",
      "Name: average, dtype: int64\n",
      "<class 'float'>    1083397\n",
      "Name: poor, dtype: int64\n",
      "<class 'float'>    1083397\n",
      "Name: terrible, dtype: int64\n",
      "<class 'float'>    1083397\n",
      "Name: food, dtype: int64\n",
      "<class 'float'>    1083397\n",
      "Name: service, dtype: int64\n",
      "<class 'float'>    1083397\n",
      "Name: value, dtype: int64\n",
      "<class 'float'>    1083397\n",
      "Name: atmosphere, dtype: int64\n",
      "<class 'str'>    1083397\n",
      "Name: keywords, dtype: int64\n"
     ]
    }
   ],
   "source": [
    "# Apply type method for each row and get count.\n",
    "for col in clean_df.columns:    \n",
    "    data_types = clean_df[col].apply(type).value_counts()\n",
    "    print(data_types)"
   ]
  },
  {
   "attachments": {},
   "cell_type": "markdown",
   "id": "f38759d5",
   "metadata": {},
   "source": [
    "it is applying the 'type' method to each row of that column and getting the count of each type using the 'value_counts' method. It then prints the count of each data type for that column. This can be useful for understanding the data types of each column and identifying any data type inconsistencies."
   ]
  },
  {
   "cell_type": "markdown",
   "id": "2c62c741",
   "metadata": {},
   "source": [
    "### Data understanding\n",
    "1.\tAre the review columns correlated with the rating columns? \n",
    "\n",
    "●\tReview columns: [\"excellent\", \"very_good\", \"average\", \"poor\", \"terrible\", \"total_reviews_count\", \"reviews_count_in_default_language\"]\n",
    "\n",
    "●\tRating columns: [\"food\", \"service\", \"value\", \"atmosphere\", \"avg_rating\"]\n",
    "\n",
    "2.\tAre vegetarian-friendly restaurants better than non-vegetarian ones?\n",
    "3.\tAre there any significantly more expensive cuisines?\n"
   ]
  },
  {
   "cell_type": "markdown",
   "id": "d14497d6",
   "metadata": {},
   "source": [
    "## <span style=\"color:orange\"> Data understanding </span>"
   ]
  },
  {
   "cell_type": "markdown",
   "id": "9011d664",
   "metadata": {},
   "source": [
    "## 1.\tAre the review columns correlated with the rating columns? "
   ]
  },
  {
   "cell_type": "code",
   "execution_count": 15,
   "id": "afcc45e2",
   "metadata": {},
   "outputs": [],
   "source": [
    "review_columns = [\"excellent\", \"very_good\", \"average\", \"poor\", \"terrible\", \"total_reviews_count\", \"reviews_count_in_default_language\"]\n",
    "rating_columns = [\"food\", \"service\", \"value\", \"atmosphere\", \"avg_rating\"]\n",
    "\n",
    "correlation_matrix = clean_df[review_columns+rating_columns].corr()"
   ]
  },
  {
   "cell_type": "code",
   "execution_count": 16,
   "id": "f926239f",
   "metadata": {
    "scrolled": true
   },
   "outputs": [
    {
     "data": {
      "image/png": "[encoded data removed]",
      "text/plain": [
       "<Figure size 640x480 with 2 Axes>"
      ]
     },
     "metadata": {},
     "output_type": "display_data"
    }
   ],
   "source": [
    "import seaborn as sns\n",
    "import matplotlib.pyplot as plt\n",
    "\n",
    "sns.heatmap(correlation_matrix, annot=True, annot_kws={\"size\": 8})\n",
    "plt.show()"
   ]
  },
  {
   "cell_type": "code",
   "execution_count": 17,
   "id": "4acb282b",
   "metadata": {
    "scrolled": true
   },
   "outputs": [
    {
     "data": {
      "text/html": [
       "<div>\n",
       "<style scoped>\n",
       "    .dataframe tbody tr th:only-of-type {\n",
       "        vertical-align: middle;\n",
       "    }\n",
       "\n",
       "    .dataframe tbody tr th {\n",
       "        vertical-align: top;\n",
       "    }\n",
       "\n",
       "    .dataframe thead th {\n",
       "        text-align: right;\n",
       "    }\n",
       "</style>\n",
       "<table border=\"1\" class=\"dataframe\">\n",
       "  <thead>\n",
       "    <tr style=\"text-align: right;\">\n",
       "      <th></th>\n",
       "      <th>excellent</th>\n",
       "      <th>very_good</th>\n",
       "      <th>average</th>\n",
       "      <th>poor</th>\n",
       "      <th>terrible</th>\n",
       "      <th>total_reviews_count</th>\n",
       "      <th>reviews_count_in_default_language</th>\n",
       "      <th>food</th>\n",
       "      <th>service</th>\n",
       "      <th>value</th>\n",
       "      <th>atmosphere</th>\n",
       "      <th>avg_rating</th>\n",
       "    </tr>\n",
       "  </thead>\n",
       "  <tbody>\n",
       "    <tr>\n",
       "      <th>excellent</th>\n",
       "      <td>1.000000</td>\n",
       "      <td>0.842964</td>\n",
       "      <td>0.733120</td>\n",
       "      <td>0.632904</td>\n",
       "      <td>0.497784</td>\n",
       "      <td>0.713753</td>\n",
       "      <td>0.959361</td>\n",
       "      <td>0.126146</td>\n",
       "      <td>0.132082</td>\n",
       "      <td>0.097468</td>\n",
       "      <td>0.149090</td>\n",
       "      <td>0.093821</td>\n",
       "    </tr>\n",
       "    <tr>\n",
       "      <th>very_good</th>\n",
       "      <td>0.842964</td>\n",
       "      <td>1.000000</td>\n",
       "      <td>0.928148</td>\n",
       "      <td>0.825488</td>\n",
       "      <td>0.672637</td>\n",
       "      <td>0.708297</td>\n",
       "      <td>0.947613</td>\n",
       "      <td>0.015959</td>\n",
       "      <td>0.020349</td>\n",
       "      <td>-0.009830</td>\n",
       "      <td>0.061328</td>\n",
       "      <td>0.011775</td>\n",
       "    </tr>\n",
       "    <tr>\n",
       "      <th>average</th>\n",
       "      <td>0.733120</td>\n",
       "      <td>0.928148</td>\n",
       "      <td>1.000000</td>\n",
       "      <td>0.934195</td>\n",
       "      <td>0.791354</td>\n",
       "      <td>0.631771</td>\n",
       "      <td>0.887308</td>\n",
       "      <td>-0.058957</td>\n",
       "      <td>-0.050322</td>\n",
       "      <td>-0.081869</td>\n",
       "      <td>-0.013675</td>\n",
       "      <td>-0.043477</td>\n",
       "    </tr>\n",
       "    <tr>\n",
       "      <th>poor</th>\n",
       "      <td>0.632904</td>\n",
       "      <td>0.825488</td>\n",
       "      <td>0.934195</td>\n",
       "      <td>1.000000</td>\n",
       "      <td>0.878500</td>\n",
       "      <td>0.537628</td>\n",
       "      <td>0.805920</td>\n",
       "      <td>-0.101894</td>\n",
       "      <td>-0.091623</td>\n",
       "      <td>-0.123531</td>\n",
       "      <td>-0.053084</td>\n",
       "      <td>-0.075998</td>\n",
       "    </tr>\n",
       "    <tr>\n",
       "      <th>terrible</th>\n",
       "      <td>0.497784</td>\n",
       "      <td>0.672637</td>\n",
       "      <td>0.791354</td>\n",
       "      <td>0.878500</td>\n",
       "      <td>1.000000</td>\n",
       "      <td>0.447282</td>\n",
       "      <td>0.674115</td>\n",
       "      <td>-0.186726</td>\n",
       "      <td>-0.178214</td>\n",
       "      <td>-0.191920</td>\n",
       "      <td>-0.125171</td>\n",
       "      <td>-0.155136</td>\n",
       "    </tr>\n",
       "    <tr>\n",
       "      <th>total_reviews_count</th>\n",
       "      <td>0.713753</td>\n",
       "      <td>0.708297</td>\n",
       "      <td>0.631771</td>\n",
       "      <td>0.537628</td>\n",
       "      <td>0.447282</td>\n",
       "      <td>1.000000</td>\n",
       "      <td>0.733862</td>\n",
       "      <td>0.053769</td>\n",
       "      <td>0.035312</td>\n",
       "      <td>-0.004933</td>\n",
       "      <td>0.079564</td>\n",
       "      <td>0.036215</td>\n",
       "    </tr>\n",
       "    <tr>\n",
       "      <th>reviews_count_in_default_language</th>\n",
       "      <td>0.959361</td>\n",
       "      <td>0.947613</td>\n",
       "      <td>0.887308</td>\n",
       "      <td>0.805920</td>\n",
       "      <td>0.674115</td>\n",
       "      <td>0.733862</td>\n",
       "      <td>1.000000</td>\n",
       "      <td>0.053552</td>\n",
       "      <td>0.060373</td>\n",
       "      <td>0.025909</td>\n",
       "      <td>0.090651</td>\n",
       "      <td>0.038627</td>\n",
       "    </tr>\n",
       "    <tr>\n",
       "      <th>food</th>\n",
       "      <td>0.126146</td>\n",
       "      <td>0.015959</td>\n",
       "      <td>-0.058957</td>\n",
       "      <td>-0.101894</td>\n",
       "      <td>-0.186726</td>\n",
       "      <td>0.053769</td>\n",
       "      <td>0.053552</td>\n",
       "      <td>1.000000</td>\n",
       "      <td>0.805844</td>\n",
       "      <td>0.816651</td>\n",
       "      <td>0.360032</td>\n",
       "      <td>0.511816</td>\n",
       "    </tr>\n",
       "    <tr>\n",
       "      <th>service</th>\n",
       "      <td>0.132082</td>\n",
       "      <td>0.020349</td>\n",
       "      <td>-0.050322</td>\n",
       "      <td>-0.091623</td>\n",
       "      <td>-0.178214</td>\n",
       "      <td>0.035312</td>\n",
       "      <td>0.060373</td>\n",
       "      <td>0.805844</td>\n",
       "      <td>1.000000</td>\n",
       "      <td>0.791781</td>\n",
       "      <td>0.377171</td>\n",
       "      <td>0.504255</td>\n",
       "    </tr>\n",
       "    <tr>\n",
       "      <th>value</th>\n",
       "      <td>0.097468</td>\n",
       "      <td>-0.009830</td>\n",
       "      <td>-0.081869</td>\n",
       "      <td>-0.123531</td>\n",
       "      <td>-0.191920</td>\n",
       "      <td>-0.004933</td>\n",
       "      <td>0.025909</td>\n",
       "      <td>0.816651</td>\n",
       "      <td>0.791781</td>\n",
       "      <td>1.000000</td>\n",
       "      <td>0.324313</td>\n",
       "      <td>0.483029</td>\n",
       "    </tr>\n",
       "    <tr>\n",
       "      <th>atmosphere</th>\n",
       "      <td>0.149090</td>\n",
       "      <td>0.061328</td>\n",
       "      <td>-0.013675</td>\n",
       "      <td>-0.053084</td>\n",
       "      <td>-0.125171</td>\n",
       "      <td>0.079564</td>\n",
       "      <td>0.090651</td>\n",
       "      <td>0.360032</td>\n",
       "      <td>0.377171</td>\n",
       "      <td>0.324313</td>\n",
       "      <td>1.000000</td>\n",
       "      <td>0.228369</td>\n",
       "    </tr>\n",
       "    <tr>\n",
       "      <th>avg_rating</th>\n",
       "      <td>0.093821</td>\n",
       "      <td>0.011775</td>\n",
       "      <td>-0.043477</td>\n",
       "      <td>-0.075998</td>\n",
       "      <td>-0.155136</td>\n",
       "      <td>0.036215</td>\n",
       "      <td>0.038627</td>\n",
       "      <td>0.511816</td>\n",
       "      <td>0.504255</td>\n",
       "      <td>0.483029</td>\n",
       "      <td>0.228369</td>\n",
       "      <td>1.000000</td>\n",
       "    </tr>\n",
       "  </tbody>\n",
       "</table>\n",
       "</div>"
      ],
      "text/plain": [
       "                                   excellent  very_good   average      poor  \\\n",
       "excellent                           1.000000   0.842964  0.733120  0.632904   \n",
       "very_good                           0.842964   1.000000  0.928148  0.825488   \n",
       "average                             0.733120   0.928148  1.000000  0.934195   \n",
       "poor                                0.632904   0.825488  0.934195  1.000000   \n",
       "terrible                            0.497784   0.672637  0.791354  0.878500   \n",
       "total_reviews_count                 0.713753   0.708297  0.631771  0.537628   \n",
       "reviews_count_in_default_language   0.959361   0.947613  0.887308  0.805920   \n",
       "food                                0.126146   0.015959 -0.058957 -0.101894   \n",
       "service                             0.132082   0.020349 -0.050322 -0.091623   \n",
       "value                               0.097468  -0.009830 -0.081869 -0.123531   \n",
       "atmosphere                          0.149090   0.061328 -0.013675 -0.053084   \n",
       "avg_rating                          0.093821   0.011775 -0.043477 -0.075998   \n",
       "\n",
       "                                   terrible  total_reviews_count  \\\n",
       "excellent                          0.497784             0.713753   \n",
       "very_good                          0.672637             0.708297   \n",
       "average                            0.791354             0.631771   \n",
       "poor                               0.878500             0.537628   \n",
       "terrible                           1.000000             0.447282   \n",
       "total_reviews_count                0.447282             1.000000   \n",
       "reviews_count_in_default_language  0.674115             0.733862   \n",
       "food                              -0.186726             0.053769   \n",
       "service                           -0.178214             0.035312   \n",
       "value                             -0.191920            -0.004933   \n",
       "atmosphere                        -0.125171             0.079564   \n",
       "avg_rating                        -0.155136             0.036215   \n",
       "\n",
       "                                   reviews_count_in_default_language  \\\n",
       "excellent                                                   0.959361   \n",
       "very_good                                                   0.947613   \n",
       "average                                                     0.887308   \n",
       "poor                                                        0.805920   \n",
       "terrible                                                    0.674115   \n",
       "total_reviews_count                                         0.733862   \n",
       "reviews_count_in_default_language                           1.000000   \n",
       "food                                                        0.053552   \n",
       "service                                                     0.060373   \n",
       "value                                                       0.025909   \n",
       "atmosphere                                                  0.090651   \n",
       "avg_rating                                                  0.038627   \n",
       "\n",
       "                                       food   service     value  atmosphere  \\\n",
       "excellent                          0.126146  0.132082  0.097468    0.149090   \n",
       "very_good                          0.015959  0.020349 -0.009830    0.061328   \n",
       "average                           -0.058957 -0.050322 -0.081869   -0.013675   \n",
       "poor                              -0.101894 -0.091623 -0.123531   -0.053084   \n",
       "terrible                          -0.186726 -0.178214 -0.191920   -0.125171   \n",
       "total_reviews_count                0.053769  0.035312 -0.004933    0.079564   \n",
       "reviews_count_in_default_language  0.053552  0.060373  0.025909    0.090651   \n",
       "food                               1.000000  0.805844  0.816651    0.360032   \n",
       "service                            0.805844  1.000000  0.791781    0.377171   \n",
       "value                              0.816651  0.791781  1.000000    0.324313   \n",
       "atmosphere                         0.360032  0.377171  0.324313    1.000000   \n",
       "avg_rating                         0.511816  0.504255  0.483029    0.228369   \n",
       "\n",
       "                                   avg_rating  \n",
       "excellent                            0.093821  \n",
       "very_good                            0.011775  \n",
       "average                             -0.043477  \n",
       "poor                                -0.075998  \n",
       "terrible                            -0.155136  \n",
       "total_reviews_count                  0.036215  \n",
       "reviews_count_in_default_language    0.038627  \n",
       "food                                 0.511816  \n",
       "service                              0.504255  \n",
       "value                                0.483029  \n",
       "atmosphere                           0.228369  \n",
       "avg_rating                           1.000000  "
      ]
     },
     "execution_count": 17,
     "metadata": {},
     "output_type": "execute_result"
    }
   ],
   "source": [
    "correlation_matrix"
   ]
  },
  {
   "cell_type": "markdown",
   "id": "13a207e6",
   "metadata": {},
   "source": [
    "### Summary Of Corelation Table\n",
    "\n",
    "This correlation table shows the correlation between the given variables. Each row and column represents a variable and each cell represents the correlation between two variables.\n",
    "\n",
    "For example, the correlation between the \"excellent\" variable and the \"very_good\" variable is 0.842964. This value indicates a positive relationship between the two variables. A high correlation value (around 1) indicates a strong relationship between the two variables, while a low correlation value (around 0) indicates a weak relationship.\n",
    "\n",
    "Similarly, the correlation between the \"excellent\" variable and the \"food\" variable is 0.126146, which indicates a weak relationship between the two variables.\n",
    "\n",
    "Also, the correlation between \"reviews_count_in_default_language\" variable and \"food\" variable is 0.053552 which means there is almost no relationship between these two variables.\n",
    "\n",
    "\"avg_rating\" variable has positive correlation with all other variables. for example, the correlation between \"avg_rating\" and \"excellent\" is 0.093821.\n",
    "\n",
    "So, the table shows that there are correlations between the group variables of \"excellent\", \"very_good\", \"average\", \"poor\", \"terrible\", \"total_reviews_count\", \"reviews_count_in_default_language\" and the group variables of \"food\", \"service\", \"value\", \"atmosphere\", \"avg_rating\", but these are not high values, thus the relationships are weak.<b> This is because review_columns features are not in a range and are displayed with aggregate values.</b> "
   ]
  },
  {
   "cell_type": "markdown",
   "id": "b9173344",
   "metadata": {},
   "source": [
    "### <span style=\"color:orange\"> Alternative Way </span>"
   ]
  },
  {
   "cell_type": "code",
   "execution_count": 18,
   "id": "011b7409",
   "metadata": {},
   "outputs": [],
   "source": [
    "related_review_columns = [\"excellent\", \"very_good\", \"average\", \"poor\", \"terrible\"]"
   ]
  },
  {
   "cell_type": "code",
   "execution_count": 19,
   "id": "4acb706d",
   "metadata": {},
   "outputs": [],
   "source": [
    "dictionary = {\"excellent\": 5.0,\n",
    "        \"very_good\": 4.0,\n",
    "        \"average\": 3.0,\n",
    "        \"poor\": 2.0,\n",
    "        \"terrible\": 1.0,}"
   ]
  },
  {
   "cell_type": "code",
   "execution_count": 20,
   "id": "b3780686",
   "metadata": {
    "scrolled": true
   },
   "outputs": [
    {
     "data": {
      "text/plain": [
       "array(['excellent', 'very_good', 'poor', 'terrible', 'average'],\n",
       "      dtype=object)"
      ]
     },
     "execution_count": 20,
     "metadata": {},
     "output_type": "execute_result"
    }
   ],
   "source": [
    "clean_df[related_review_columns].idxmax(axis=1).unique()"
   ]
  },
  {
   "cell_type": "code",
   "execution_count": 21,
   "id": "60075dec",
   "metadata": {},
   "outputs": [],
   "source": [
    "test = clean_df[related_review_columns].idxmax(axis=1)\n",
    "clean_df[\"most_ratings\"] = test.map(dictionary)"
   ]
  },
  {
   "cell_type": "markdown",
   "id": "2000af7e",
   "metadata": {},
   "source": [
    "Optional : Average rating value also could use."
   ]
  },
  {
   "cell_type": "code",
   "execution_count": 22,
   "id": "28615a3f",
   "metadata": {},
   "outputs": [],
   "source": [
    "review_columns = [\"most_ratings\"]\n",
    "rating_columns = [\"food\", \"service\", \"value\", \"atmosphere\", \"avg_rating\"]\n",
    "\n",
    "correlation_matrix = clean_df[review_columns+rating_columns].corr()"
   ]
  },
  {
   "cell_type": "code",
   "execution_count": 23,
   "id": "f6e6ca3a",
   "metadata": {
    "scrolled": true
   },
   "outputs": [
    {
     "data": {
      "image/png": "[encoded data removed]",
      "text/plain": [
       "<Figure size 640x480 with 2 Axes>"
      ]
     },
     "metadata": {},
     "output_type": "display_data"
    }
   ],
   "source": [
    "import seaborn as sns\n",
    "import matplotlib.pyplot as plt\n",
    "\n",
    "sns.heatmap(correlation_matrix, annot=True, annot_kws={\"size\": 8})\n",
    "plt.show()"
   ]
  },
  {
   "cell_type": "code",
   "execution_count": 24,
   "id": "78e69125",
   "metadata": {
    "scrolled": false
   },
   "outputs": [
    {
     "data": {
      "text/html": [
       "<div>\n",
       "<style scoped>\n",
       "    .dataframe tbody tr th:only-of-type {\n",
       "        vertical-align: middle;\n",
       "    }\n",
       "\n",
       "    .dataframe tbody tr th {\n",
       "        vertical-align: top;\n",
       "    }\n",
       "\n",
       "    .dataframe thead th {\n",
       "        text-align: right;\n",
       "    }\n",
       "</style>\n",
       "<table border=\"1\" class=\"dataframe\">\n",
       "  <thead>\n",
       "    <tr style=\"text-align: right;\">\n",
       "      <th></th>\n",
       "      <th>most_ratings</th>\n",
       "      <th>food</th>\n",
       "      <th>service</th>\n",
       "      <th>value</th>\n",
       "      <th>atmosphere</th>\n",
       "      <th>avg_rating</th>\n",
       "    </tr>\n",
       "  </thead>\n",
       "  <tbody>\n",
       "    <tr>\n",
       "      <th>most_ratings</th>\n",
       "      <td>1.000000</td>\n",
       "      <td>0.345910</td>\n",
       "      <td>0.334443</td>\n",
       "      <td>0.313444</td>\n",
       "      <td>0.158510</td>\n",
       "      <td>0.643037</td>\n",
       "    </tr>\n",
       "    <tr>\n",
       "      <th>food</th>\n",
       "      <td>0.345910</td>\n",
       "      <td>1.000000</td>\n",
       "      <td>0.805844</td>\n",
       "      <td>0.816651</td>\n",
       "      <td>0.360032</td>\n",
       "      <td>0.511816</td>\n",
       "    </tr>\n",
       "    <tr>\n",
       "      <th>service</th>\n",
       "      <td>0.334443</td>\n",
       "      <td>0.805844</td>\n",
       "      <td>1.000000</td>\n",
       "      <td>0.791781</td>\n",
       "      <td>0.377171</td>\n",
       "      <td>0.504255</td>\n",
       "    </tr>\n",
       "    <tr>\n",
       "      <th>value</th>\n",
       "      <td>0.313444</td>\n",
       "      <td>0.816651</td>\n",
       "      <td>0.791781</td>\n",
       "      <td>1.000000</td>\n",
       "      <td>0.324313</td>\n",
       "      <td>0.483029</td>\n",
       "    </tr>\n",
       "    <tr>\n",
       "      <th>atmosphere</th>\n",
       "      <td>0.158510</td>\n",
       "      <td>0.360032</td>\n",
       "      <td>0.377171</td>\n",
       "      <td>0.324313</td>\n",
       "      <td>1.000000</td>\n",
       "      <td>0.228369</td>\n",
       "    </tr>\n",
       "    <tr>\n",
       "      <th>avg_rating</th>\n",
       "      <td>0.643037</td>\n",
       "      <td>0.511816</td>\n",
       "      <td>0.504255</td>\n",
       "      <td>0.483029</td>\n",
       "      <td>0.228369</td>\n",
       "      <td>1.000000</td>\n",
       "    </tr>\n",
       "  </tbody>\n",
       "</table>\n",
       "</div>"
      ],
      "text/plain": [
       "              most_ratings      food   service     value  atmosphere  \\\n",
       "most_ratings      1.000000  0.345910  0.334443  0.313444    0.158510   \n",
       "food              0.345910  1.000000  0.805844  0.816651    0.360032   \n",
       "service           0.334443  0.805844  1.000000  0.791781    0.377171   \n",
       "value             0.313444  0.816651  0.791781  1.000000    0.324313   \n",
       "atmosphere        0.158510  0.360032  0.377171  0.324313    1.000000   \n",
       "avg_rating        0.643037  0.511816  0.504255  0.483029    0.228369   \n",
       "\n",
       "              avg_rating  \n",
       "most_ratings    0.643037  \n",
       "food            0.511816  \n",
       "service         0.504255  \n",
       "value           0.483029  \n",
       "atmosphere      0.228369  \n",
       "avg_rating      1.000000  "
      ]
     },
     "execution_count": 24,
     "metadata": {},
     "output_type": "execute_result"
    }
   ],
   "source": [
    "correlation_matrix"
   ]
  },
  {
   "cell_type": "markdown",
   "id": "b834748c",
   "metadata": {},
   "source": [
    "In this table, the variable \"most_ratings\" has a strong positive correlation with \"avg_rating\" (0.643037). This suggests that when the number of reviews is high, the rating of the place is also high, indicating a positive relationship between the two variables.\n",
    "\n",
    "The variable \"food\" has a moderate positive correlation with \"avg_rating\" (0.511816) and a strong positive correlation with \"service\" (0.805844) and \"value\" (0.816651) which means that the quality of food is positively related with the overall rating and the service and value aspects of the place."
   ]
  },
  {
   "cell_type": "markdown",
   "id": "7900bd41",
   "metadata": {},
   "source": [
    "## 2.\tAre vegetarian-friendly restaurants better than non-vegetarian ones?"
   ]
  },
  {
   "cell_type": "code",
   "execution_count": 25,
   "id": "a7a1a5d3",
   "metadata": {},
   "outputs": [
    {
     "data": {
      "text/plain": [
       "4.295057187387689"
      ]
     },
     "execution_count": 25,
     "metadata": {},
     "output_type": "execute_result"
    }
   ],
   "source": [
    "clean_df[clean_df[\"vegan_options\"] == \"Y\"].avg_rating.mean()"
   ]
  },
  {
   "cell_type": "code",
   "execution_count": 26,
   "id": "2c95f9d0",
   "metadata": {},
   "outputs": [
    {
     "data": {
      "text/plain": [
       "3.9985598292897273"
      ]
     },
     "execution_count": 26,
     "metadata": {},
     "output_type": "execute_result"
    }
   ],
   "source": [
    "clean_df[clean_df[\"vegan_options\"] == \"N\"].avg_rating.mean()"
   ]
  },
  {
   "cell_type": "code",
   "execution_count": 27,
   "id": "65501878",
   "metadata": {},
   "outputs": [
    {
     "data": {
      "text/plain": [
       "4.878035388771349"
      ]
     },
     "execution_count": 27,
     "metadata": {},
     "output_type": "execute_result"
    }
   ],
   "source": [
    "clean_df[clean_df[\"vegan_options\"] == \"Y\"].most_ratings.mean()"
   ]
  },
  {
   "cell_type": "code",
   "execution_count": 28,
   "id": "3676b385",
   "metadata": {
    "scrolled": true
   },
   "outputs": [
    {
     "data": {
      "text/plain": [
       "4.503179129700042"
      ]
     },
     "execution_count": 28,
     "metadata": {},
     "output_type": "execute_result"
    }
   ],
   "source": [
    "clean_df[clean_df[\"vegan_options\"] == \"N\"].most_ratings.mean()"
   ]
  },
  {
   "cell_type": "markdown",
   "id": "d9d7d8a6",
   "metadata": {},
   "source": [
    "It is important to note that this is just an average and may not fully represent the distribution of ratings for items with vegan options. Additionally, the sample size of the subset used to calculate this average may also be small and may not be representative of the entire population.\n",
    "\n",
    "My opinion is the \"Yes\". Vegetarian-friendly restaurants better than non-vegetarian ones."
   ]
  },
  {
   "cell_type": "markdown",
   "id": "78e507bf",
   "metadata": {},
   "source": [
    "## 3.\tAre there any significantly more expensive cuisines?"
   ]
  },
  {
   "cell_type": "code",
   "execution_count": 29,
   "id": "d24413ae",
   "metadata": {},
   "outputs": [
    {
     "data": {
      "text/html": [
       "<div>\n",
       "<style scoped>\n",
       "    .dataframe tbody tr th:only-of-type {\n",
       "        vertical-align: middle;\n",
       "    }\n",
       "\n",
       "    .dataframe tbody tr th {\n",
       "        vertical-align: top;\n",
       "    }\n",
       "\n",
       "    .dataframe thead th {\n",
       "        text-align: right;\n",
       "    }\n",
       "</style>\n",
       "<table border=\"1\" class=\"dataframe\">\n",
       "  <thead>\n",
       "    <tr style=\"text-align: right;\">\n",
       "      <th></th>\n",
       "      <th>restaurant_link</th>\n",
       "      <th>restaurant_name</th>\n",
       "      <th>original_location</th>\n",
       "      <th>country</th>\n",
       "      <th>region</th>\n",
       "      <th>province</th>\n",
       "      <th>city</th>\n",
       "      <th>address</th>\n",
       "      <th>latitude</th>\n",
       "      <th>longitude</th>\n",
       "      <th>...</th>\n",
       "      <th>very_good</th>\n",
       "      <th>average</th>\n",
       "      <th>poor</th>\n",
       "      <th>terrible</th>\n",
       "      <th>food</th>\n",
       "      <th>service</th>\n",
       "      <th>value</th>\n",
       "      <th>atmosphere</th>\n",
       "      <th>keywords</th>\n",
       "      <th>most_ratings</th>\n",
       "    </tr>\n",
       "  </thead>\n",
       "  <tbody>\n",
       "    <tr>\n",
       "      <th>0</th>\n",
       "      <td>g10001637-d10002227</td>\n",
       "      <td>Le 147</td>\n",
       "      <td>[\"Europe\", \"France\", \"Nouvelle-Aquitaine\", \"Ha...</td>\n",
       "      <td>France</td>\n",
       "      <td>Nouvelle-Aquitaine</td>\n",
       "      <td>Haute-Vienne</td>\n",
       "      <td>Saint-Jouvent</td>\n",
       "      <td>10 Maison Neuve, 87510 Saint-Jouvent France</td>\n",
       "      <td>45.961674</td>\n",
       "      <td>1.169131</td>\n",
       "      <td>...</td>\n",
       "      <td>0.0</td>\n",
       "      <td>0.0</td>\n",
       "      <td>0.0</td>\n",
       "      <td>0.0</td>\n",
       "      <td>4.000000</td>\n",
       "      <td>4.500000</td>\n",
       "      <td>4.000000</td>\n",
       "      <td>3.933682</td>\n",
       "      <td>steak, onion loaf, lettuce wedge, chateaubrian...</td>\n",
       "      <td>5.0</td>\n",
       "    </tr>\n",
       "    <tr>\n",
       "      <th>1</th>\n",
       "      <td>g10001637-d14975787</td>\n",
       "      <td>Le Saint Jouvent</td>\n",
       "      <td>[\"Europe\", \"France\", \"Nouvelle-Aquitaine\", \"Ha...</td>\n",
       "      <td>France</td>\n",
       "      <td>Nouvelle-Aquitaine</td>\n",
       "      <td>Haute-Vienne</td>\n",
       "      <td>Saint-Jouvent</td>\n",
       "      <td>16 Place de l Eglise, 87510 Saint-Jouvent France</td>\n",
       "      <td>45.957040</td>\n",
       "      <td>1.205480</td>\n",
       "      <td>...</td>\n",
       "      <td>2.0</td>\n",
       "      <td>1.0</td>\n",
       "      <td>0.0</td>\n",
       "      <td>0.0</td>\n",
       "      <td>4.104179</td>\n",
       "      <td>4.067245</td>\n",
       "      <td>3.982897</td>\n",
       "      <td>3.933682</td>\n",
       "      <td>steak, onion loaf, lettuce wedge, chateaubrian...</td>\n",
       "      <td>5.0</td>\n",
       "    </tr>\n",
       "    <tr>\n",
       "      <th>2</th>\n",
       "      <td>g10002858-d4586832</td>\n",
       "      <td>Au Bout du Pont</td>\n",
       "      <td>[\"Europe\", \"France\", \"Centre-Val de Loire\", \"B...</td>\n",
       "      <td>France</td>\n",
       "      <td>Centre-Val de Loire</td>\n",
       "      <td>Berry</td>\n",
       "      <td>Rivarennes</td>\n",
       "      <td>2 rue des Dames, 36800 Rivarennes France</td>\n",
       "      <td>46.635895</td>\n",
       "      <td>1.386133</td>\n",
       "      <td>...</td>\n",
       "      <td>1.0</td>\n",
       "      <td>0.0</td>\n",
       "      <td>0.0</td>\n",
       "      <td>0.0</td>\n",
       "      <td>4.104179</td>\n",
       "      <td>4.067245</td>\n",
       "      <td>3.982897</td>\n",
       "      <td>3.933682</td>\n",
       "      <td>steak, onion loaf, lettuce wedge, chateaubrian...</td>\n",
       "      <td>5.0</td>\n",
       "    </tr>\n",
       "    <tr>\n",
       "      <th>3</th>\n",
       "      <td>g10002986-d3510044</td>\n",
       "      <td>Le Relais de Naiade</td>\n",
       "      <td>[\"Europe\", \"France\", \"Nouvelle-Aquitaine\", \"Co...</td>\n",
       "      <td>France</td>\n",
       "      <td>Nouvelle-Aquitaine</td>\n",
       "      <td>Correze</td>\n",
       "      <td>Lacelle</td>\n",
       "      <td>9 avenue Porte de la Correze 19170, 19170 Lace...</td>\n",
       "      <td>45.642610</td>\n",
       "      <td>1.824460</td>\n",
       "      <td>...</td>\n",
       "      <td>0.0</td>\n",
       "      <td>0.0</td>\n",
       "      <td>0.0</td>\n",
       "      <td>0.0</td>\n",
       "      <td>4.500000</td>\n",
       "      <td>4.500000</td>\n",
       "      <td>4.500000</td>\n",
       "      <td>3.933682</td>\n",
       "      <td>steak, onion loaf, lettuce wedge, chateaubrian...</td>\n",
       "      <td>5.0</td>\n",
       "    </tr>\n",
       "    <tr>\n",
       "      <th>4</th>\n",
       "      <td>g10022428-d9767191</td>\n",
       "      <td>Relais Du MontSeigne</td>\n",
       "      <td>[\"Europe\", \"France\", \"Occitanie\", \"Aveyron\", \"...</td>\n",
       "      <td>France</td>\n",
       "      <td>Occitanie</td>\n",
       "      <td>Aveyron</td>\n",
       "      <td>Saint-Laurent-de-Levezou</td>\n",
       "      <td>route du Montseigne, 12620 Saint-Laurent-de-Le...</td>\n",
       "      <td>44.208860</td>\n",
       "      <td>2.960470</td>\n",
       "      <td>...</td>\n",
       "      <td>7.0</td>\n",
       "      <td>0.0</td>\n",
       "      <td>0.0</td>\n",
       "      <td>0.0</td>\n",
       "      <td>4.500000</td>\n",
       "      <td>4.500000</td>\n",
       "      <td>4.500000</td>\n",
       "      <td>3.933682</td>\n",
       "      <td>steak, onion loaf, lettuce wedge, chateaubrian...</td>\n",
       "      <td>4.0</td>\n",
       "    </tr>\n",
       "  </tbody>\n",
       "</table>\n",
       "<p>5 rows × 43 columns</p>\n",
       "</div>"
      ],
      "text/plain": [
       "       restaurant_link       restaurant_name  \\\n",
       "0  g10001637-d10002227                Le 147   \n",
       "1  g10001637-d14975787      Le Saint Jouvent   \n",
       "2   g10002858-d4586832       Au Bout du Pont   \n",
       "3   g10002986-d3510044   Le Relais de Naiade   \n",
       "4   g10022428-d9767191  Relais Du MontSeigne   \n",
       "\n",
       "                                   original_location country  \\\n",
       "0  [\"Europe\", \"France\", \"Nouvelle-Aquitaine\", \"Ha...  France   \n",
       "1  [\"Europe\", \"France\", \"Nouvelle-Aquitaine\", \"Ha...  France   \n",
       "2  [\"Europe\", \"France\", \"Centre-Val de Loire\", \"B...  France   \n",
       "3  [\"Europe\", \"France\", \"Nouvelle-Aquitaine\", \"Co...  France   \n",
       "4  [\"Europe\", \"France\", \"Occitanie\", \"Aveyron\", \"...  France   \n",
       "\n",
       "                region      province                      city  \\\n",
       "0   Nouvelle-Aquitaine  Haute-Vienne             Saint-Jouvent   \n",
       "1   Nouvelle-Aquitaine  Haute-Vienne             Saint-Jouvent   \n",
       "2  Centre-Val de Loire         Berry                Rivarennes   \n",
       "3   Nouvelle-Aquitaine       Correze                   Lacelle   \n",
       "4            Occitanie       Aveyron  Saint-Laurent-de-Levezou   \n",
       "\n",
       "                                             address   latitude  longitude  \\\n",
       "0        10 Maison Neuve, 87510 Saint-Jouvent France  45.961674   1.169131   \n",
       "1   16 Place de l Eglise, 87510 Saint-Jouvent France  45.957040   1.205480   \n",
       "2           2 rue des Dames, 36800 Rivarennes France  46.635895   1.386133   \n",
       "3  9 avenue Porte de la Correze 19170, 19170 Lace...  45.642610   1.824460   \n",
       "4  route du Montseigne, 12620 Saint-Laurent-de-Le...  44.208860   2.960470   \n",
       "\n",
       "   ... very_good average poor terrible      food   service     value  \\\n",
       "0  ...       0.0     0.0  0.0      0.0  4.000000  4.500000  4.000000   \n",
       "1  ...       2.0     1.0  0.0      0.0  4.104179  4.067245  3.982897   \n",
       "2  ...       1.0     0.0  0.0      0.0  4.104179  4.067245  3.982897   \n",
       "3  ...       0.0     0.0  0.0      0.0  4.500000  4.500000  4.500000   \n",
       "4  ...       7.0     0.0  0.0      0.0  4.500000  4.500000  4.500000   \n",
       "\n",
       "  atmosphere                                           keywords most_ratings  \n",
       "0   3.933682  steak, onion loaf, lettuce wedge, chateaubrian...          5.0  \n",
       "1   3.933682  steak, onion loaf, lettuce wedge, chateaubrian...          5.0  \n",
       "2   3.933682  steak, onion loaf, lettuce wedge, chateaubrian...          5.0  \n",
       "3   3.933682  steak, onion loaf, lettuce wedge, chateaubrian...          5.0  \n",
       "4   3.933682  steak, onion loaf, lettuce wedge, chateaubrian...          4.0  \n",
       "\n",
       "[5 rows x 43 columns]"
      ]
     },
     "execution_count": 29,
     "metadata": {},
     "output_type": "execute_result"
    }
   ],
   "source": [
    "clean_df.head()"
   ]
  },
  {
   "cell_type": "code",
   "execution_count": 30,
   "id": "c8ad2d74",
   "metadata": {},
   "outputs": [
    {
     "data": {
      "text/plain": [
       "€€-€€€    815123\n",
       "€         240205\n",
       "€€€€       28069\n",
       "Name: price_level, dtype: int64"
      ]
     },
     "execution_count": 30,
     "metadata": {},
     "output_type": "execute_result"
    }
   ],
   "source": [
    "clean_df[\"price_level\"].value_counts()"
   ]
  },
  {
   "cell_type": "code",
   "execution_count": 31,
   "id": "a80dee71",
   "metadata": {},
   "outputs": [
    {
     "data": {
      "text/plain": [
       "€35-€180          1\n",
       "€75-€354          1\n",
       "€33-€215          1\n",
       "€118-€304         1\n",
       "€3-€193           1\n",
       "              ...  \n",
       "€10-€25        4448\n",
       "€5-€20         4793\n",
       "€10-€20        5148\n",
       "€5-€15         5810\n",
       "€10-€30      785007\n",
       "Name: price_range, Length: 7298, dtype: int64"
      ]
     },
     "execution_count": 31,
     "metadata": {},
     "output_type": "execute_result"
    }
   ],
   "source": [
    "clean_df[\"price_range\"].value_counts().sort_values()"
   ]
  },
  {
   "cell_type": "code",
   "execution_count": 32,
   "id": "6e1210fd",
   "metadata": {
    "scrolled": true
   },
   "outputs": [
    {
     "data": {
      "text/plain": [
       "0          [10, 30]\n",
       "1          [10, 30]\n",
       "2          [10, 30]\n",
       "3          [10, 30]\n",
       "4          [10, 30]\n",
       "             ...   \n",
       "1083392    [10, 30]\n",
       "1083393    [10, 30]\n",
       "1083394    [10, 30]\n",
       "1083395      [2, 8]\n",
       "1083396    [10, 30]\n",
       "Name: price_range, Length: 1083397, dtype: object"
      ]
     },
     "execution_count": 32,
     "metadata": {},
     "output_type": "execute_result"
    }
   ],
   "source": [
    "clean_df[\"price_range\"].str.replace(\"€\",\"\").str.split(\"-\")\n"
   ]
  },
  {
   "cell_type": "code",
   "execution_count": 33,
   "id": "c412581b",
   "metadata": {},
   "outputs": [],
   "source": [
    "price_range = pd.DataFrame()"
   ]
  },
  {
   "cell_type": "code",
   "execution_count": 34,
   "id": "e0fd6635",
   "metadata": {},
   "outputs": [],
   "source": [
    "price_range[[\"col1\",\"col2\"]] = clean_df[\"price_range\"].str.replace(\"€\",\"\").str.split(\"-\").apply(pd.Series)"
   ]
  },
  {
   "cell_type": "code",
   "execution_count": 35,
   "id": "52d543f8",
   "metadata": {},
   "outputs": [],
   "source": [
    "price_range[\"restaurant_name\"] = clean_df[\"restaurant_name\"]\n",
    "price_range[\"cuisines\"] = clean_df[\"cuisines\"]"
   ]
  },
  {
   "cell_type": "code",
   "execution_count": 36,
   "id": "23e426f2",
   "metadata": {},
   "outputs": [],
   "source": [
    "price_range = price_range.reset_index(drop=True).dropna()"
   ]
  },
  {
   "cell_type": "code",
   "execution_count": 37,
   "id": "e5defc2b",
   "metadata": {},
   "outputs": [],
   "source": [
    "price_range = price_range[~(price_range[\"col1\"].str.contains(\"CHF\"))]\n",
    "price_range = price_range[pd.to_numeric(price_range['col1'], errors='coerce').notnull()]\n",
    "price_range = price_range[pd.to_numeric(price_range['col2'], errors='coerce').notnull()]\n",
    "price_range[\"col1\"] = price_range[\"col1\"].astype(int)\n",
    "price_range[\"col2\"] = price_range[\"col2\"].astype(int)"
   ]
  },
  {
   "cell_type": "code",
   "execution_count": 38,
   "id": "21e8c012",
   "metadata": {
    "scrolled": true
   },
   "outputs": [
    {
     "name": "stdout",
     "output_type": "stream",
     "text": [
      "<class 'pandas.core.frame.DataFrame'>\n",
      "Int64Index: 1078638 entries, 0 to 1083396\n",
      "Data columns (total 4 columns):\n",
      " #   Column           Non-Null Count    Dtype \n",
      "---  ------           --------------    ----- \n",
      " 0   col1             1078638 non-null  int32 \n",
      " 1   col2             1078638 non-null  int32 \n",
      " 2   restaurant_name  1078638 non-null  object\n",
      " 3   cuisines         1078638 non-null  object\n",
      "dtypes: int32(2), object(2)\n",
      "memory usage: 32.9+ MB\n"
     ]
    }
   ],
   "source": [
    "price_range.info()"
   ]
  },
  {
   "cell_type": "code",
   "execution_count": 39,
   "id": "d3ae0159",
   "metadata": {
    "scrolled": true
   },
   "outputs": [
    {
     "data": {
      "text/html": [
       "<div>\n",
       "<style scoped>\n",
       "    .dataframe tbody tr th:only-of-type {\n",
       "        vertical-align: middle;\n",
       "    }\n",
       "\n",
       "    .dataframe tbody tr th {\n",
       "        vertical-align: top;\n",
       "    }\n",
       "\n",
       "    .dataframe thead th {\n",
       "        text-align: right;\n",
       "    }\n",
       "</style>\n",
       "<table border=\"1\" class=\"dataframe\">\n",
       "  <thead>\n",
       "    <tr style=\"text-align: right;\">\n",
       "      <th></th>\n",
       "      <th>col1</th>\n",
       "      <th>col2</th>\n",
       "      <th>restaurant_name</th>\n",
       "      <th>cuisines</th>\n",
       "    </tr>\n",
       "  </thead>\n",
       "  <tbody>\n",
       "    <tr>\n",
       "      <th>850545</th>\n",
       "      <td>750</td>\n",
       "      <td>850</td>\n",
       "      <td>Totalerg Stazione Di Servizio</td>\n",
       "      <td>Italian</td>\n",
       "    </tr>\n",
       "    <tr>\n",
       "      <th>605565</th>\n",
       "      <td>687</td>\n",
       "      <td>687</td>\n",
       "      <td>The Royal George</td>\n",
       "      <td>Bar, British, Pub</td>\n",
       "    </tr>\n",
       "    <tr>\n",
       "      <th>16900</th>\n",
       "      <td>662</td>\n",
       "      <td>827</td>\n",
       "      <td>Le buron de la Croix Saint Robert</td>\n",
       "      <td>Salvadoran, Azerbaijani, French, South America...</td>\n",
       "    </tr>\n",
       "    <tr>\n",
       "      <th>511873</th>\n",
       "      <td>661</td>\n",
       "      <td>862</td>\n",
       "      <td>Listo Burrito</td>\n",
       "      <td>Mexican, Fast food, Healthy, Street Food</td>\n",
       "    </tr>\n",
       "    <tr>\n",
       "      <th>927388</th>\n",
       "      <td>660</td>\n",
       "      <td>827</td>\n",
       "      <td>Villa Strandvägen</td>\n",
       "      <td>European, Swedish, Scandinavian</td>\n",
       "    </tr>\n",
       "    <tr>\n",
       "      <th>...</th>\n",
       "      <td>...</td>\n",
       "      <td>...</td>\n",
       "      <td>...</td>\n",
       "      <td>...</td>\n",
       "    </tr>\n",
       "    <tr>\n",
       "      <th>1080547</th>\n",
       "      <td>0</td>\n",
       "      <td>2</td>\n",
       "      <td>Sky Restaurant</td>\n",
       "      <td>International</td>\n",
       "    </tr>\n",
       "    <tr>\n",
       "      <th>1081058</th>\n",
       "      <td>0</td>\n",
       "      <td>2</td>\n",
       "      <td>Maison du Cafe</td>\n",
       "      <td>Italian, Cafe, International, Arabic</td>\n",
       "    </tr>\n",
       "    <tr>\n",
       "      <th>1081291</th>\n",
       "      <td>0</td>\n",
       "      <td>2</td>\n",
       "      <td>Cafeneaua Noastra</td>\n",
       "      <td>European, Brew Pub, Cafe, Pub</td>\n",
       "    </tr>\n",
       "    <tr>\n",
       "      <th>1081890</th>\n",
       "      <td>0</td>\n",
       "      <td>2</td>\n",
       "      <td>The Bean Specialty Coffee Sighisoara</td>\n",
       "      <td>Cafe</td>\n",
       "    </tr>\n",
       "    <tr>\n",
       "      <th>1081964</th>\n",
       "      <td>0</td>\n",
       "      <td>2</td>\n",
       "      <td>Panova</td>\n",
       "      <td>French</td>\n",
       "    </tr>\n",
       "  </tbody>\n",
       "</table>\n",
       "<p>1078638 rows × 4 columns</p>\n",
       "</div>"
      ],
      "text/plain": [
       "         col1  col2                       restaurant_name  \\\n",
       "850545    750   850         Totalerg Stazione Di Servizio   \n",
       "605565    687   687                      The Royal George   \n",
       "16900     662   827     Le buron de la Croix Saint Robert   \n",
       "511873    661   862                         Listo Burrito   \n",
       "927388    660   827                     Villa Strandvägen   \n",
       "...       ...   ...                                   ...   \n",
       "1080547     0     2                        Sky Restaurant   \n",
       "1081058     0     2                        Maison du Cafe   \n",
       "1081291     0     2                     Cafeneaua Noastra   \n",
       "1081890     0     2  The Bean Specialty Coffee Sighisoara   \n",
       "1081964     0     2                                Panova   \n",
       "\n",
       "                                                  cuisines  \n",
       "850545                                             Italian  \n",
       "605565                                   Bar, British, Pub  \n",
       "16900    Salvadoran, Azerbaijani, French, South America...  \n",
       "511873            Mexican, Fast food, Healthy, Street Food  \n",
       "927388                     European, Swedish, Scandinavian  \n",
       "...                                                    ...  \n",
       "1080547                                      International  \n",
       "1081058               Italian, Cafe, International, Arabic  \n",
       "1081291                      European, Brew Pub, Cafe, Pub  \n",
       "1081890                                               Cafe  \n",
       "1081964                                             French  \n",
       "\n",
       "[1078638 rows x 4 columns]"
      ]
     },
     "execution_count": 39,
     "metadata": {},
     "output_type": "execute_result"
    }
   ],
   "source": [
    "price_range.sort_values(by=[\"col1\",\"col2\"], ascending=False)"
   ]
  },
  {
   "cell_type": "code",
   "execution_count": 40,
   "id": "6ef1a6c6",
   "metadata": {},
   "outputs": [
    {
     "name": "stderr",
     "output_type": "stream",
     "text": [
      "C:\\Users\\YUNUS\\AppData\\Local\\Temp\\ipykernel_6644\\3673609339.py:1: FutureWarning: The default value of numeric_only in DataFrameGroupBy.mean is deprecated. In a future version, numeric_only will default to False. Either specify numeric_only or select only columns which should be valid for the function.\n",
      "  price_range.groupby(\"cuisines\").mean()[['col1','col2']].reset_index().sort_values(by=[\"col1\",\"col2\"], ascending=False).head(10)\n"
     ]
    },
    {
     "data": {
      "text/html": [
       "<div>\n",
       "<style scoped>\n",
       "    .dataframe tbody tr th:only-of-type {\n",
       "        vertical-align: middle;\n",
       "    }\n",
       "\n",
       "    .dataframe tbody tr th {\n",
       "        vertical-align: top;\n",
       "    }\n",
       "\n",
       "    .dataframe thead th {\n",
       "        text-align: right;\n",
       "    }\n",
       "</style>\n",
       "<table border=\"1\" class=\"dataframe\">\n",
       "  <thead>\n",
       "    <tr style=\"text-align: right;\">\n",
       "      <th></th>\n",
       "      <th>cuisines</th>\n",
       "      <th>col1</th>\n",
       "      <th>col2</th>\n",
       "    </tr>\n",
       "  </thead>\n",
       "  <tbody>\n",
       "    <tr>\n",
       "      <th>86074</th>\n",
       "      <td>Salvadoran, Azerbaijani, French, South America...</td>\n",
       "      <td>662.000000</td>\n",
       "      <td>827.000000</td>\n",
       "    </tr>\n",
       "    <tr>\n",
       "      <th>12546</th>\n",
       "      <td>Bar, Pub, Italian, Cafe, Fast food</td>\n",
       "      <td>578.000000</td>\n",
       "      <td>826.000000</td>\n",
       "    </tr>\n",
       "    <tr>\n",
       "      <th>81881</th>\n",
       "      <td>Pizza, Fast food, Turkish, Grill, Street Food</td>\n",
       "      <td>457.000000</td>\n",
       "      <td>832.000000</td>\n",
       "    </tr>\n",
       "    <tr>\n",
       "      <th>22425</th>\n",
       "      <td>Cafe, Middle Eastern, Egyptian, Mediterranean,...</td>\n",
       "      <td>405.000000</td>\n",
       "      <td>869.000000</td>\n",
       "    </tr>\n",
       "    <tr>\n",
       "      <th>51143</th>\n",
       "      <td>Irish, Cafe, European, Deli, Healthy</td>\n",
       "      <td>400.000000</td>\n",
       "      <td>850.000000</td>\n",
       "    </tr>\n",
       "    <tr>\n",
       "      <th>40900</th>\n",
       "      <td>French, Swedish</td>\n",
       "      <td>328.000000</td>\n",
       "      <td>378.000000</td>\n",
       "    </tr>\n",
       "    <tr>\n",
       "      <th>10671</th>\n",
       "      <td>Bar, International, European, Dining bars</td>\n",
       "      <td>240.000000</td>\n",
       "      <td>364.000000</td>\n",
       "    </tr>\n",
       "    <tr>\n",
       "      <th>48914</th>\n",
       "      <td>International, European, Contemporary, Mediter...</td>\n",
       "      <td>240.000000</td>\n",
       "      <td>240.000000</td>\n",
       "    </tr>\n",
       "    <tr>\n",
       "      <th>78567</th>\n",
       "      <td>Mexican, Fast food, Healthy, Street Food</td>\n",
       "      <td>225.666667</td>\n",
       "      <td>300.333333</td>\n",
       "    </tr>\n",
       "    <tr>\n",
       "      <th>38192</th>\n",
       "      <td>French, European, Healthy, Pub, Diner, Gastropub</td>\n",
       "      <td>200.000000</td>\n",
       "      <td>240.000000</td>\n",
       "    </tr>\n",
       "  </tbody>\n",
       "</table>\n",
       "</div>"
      ],
      "text/plain": [
       "                                                cuisines        col1  \\\n",
       "86074  Salvadoran, Azerbaijani, French, South America...  662.000000   \n",
       "12546                 Bar, Pub, Italian, Cafe, Fast food  578.000000   \n",
       "81881      Pizza, Fast food, Turkish, Grill, Street Food  457.000000   \n",
       "22425  Cafe, Middle Eastern, Egyptian, Mediterranean,...  405.000000   \n",
       "51143               Irish, Cafe, European, Deli, Healthy  400.000000   \n",
       "40900                                    French, Swedish  328.000000   \n",
       "10671          Bar, International, European, Dining bars  240.000000   \n",
       "48914  International, European, Contemporary, Mediter...  240.000000   \n",
       "78567           Mexican, Fast food, Healthy, Street Food  225.666667   \n",
       "38192   French, European, Healthy, Pub, Diner, Gastropub  200.000000   \n",
       "\n",
       "             col2  \n",
       "86074  827.000000  \n",
       "12546  826.000000  \n",
       "81881  832.000000  \n",
       "22425  869.000000  \n",
       "51143  850.000000  \n",
       "40900  378.000000  \n",
       "10671  364.000000  \n",
       "48914  240.000000  \n",
       "78567  300.333333  \n",
       "38192  240.000000  "
      ]
     },
     "execution_count": 40,
     "metadata": {},
     "output_type": "execute_result"
    }
   ],
   "source": [
    "price_range.groupby(\"cuisines\").mean()[['col1','col2']].reset_index().sort_values(by=[\"col1\",\"col2\"], ascending=False).head(10)"
   ]
  },
  {
   "cell_type": "markdown",
   "id": "72105efe",
   "metadata": {},
   "source": [
    "## \t\t<span style=\"color:orange\">Salvadoran, Azerbaijani, French, South America...</span> \t\t\t\t"
   ]
  },
  {
   "cell_type": "markdown",
   "id": "21d6d5a2",
   "metadata": {},
   "source": [
    "These data suggest that multi-cuisine cookers are more expensive."
   ]
  },
  {
   "cell_type": "markdown",
   "id": "ac8c7341",
   "metadata": {},
   "source": [
    "![Auberge du Bois Prin](https://upload.wikimedia.org/wikipedia/commons/e/eb/Gastronomia_salvadore%C3%B1a.png)"
   ]
  },
  {
   "cell_type": "markdown",
   "id": "3c36febc",
   "metadata": {},
   "source": [
    "## Business-specific\n",
    "1.\tIn the assets directory, you will see a very small dataset called europe_capitals_population_and_area.csv. A gluten-free restaurant wants to open a new restaurant in a European capital where gluten-free restaurants are underrepresented. Assuming there are no other factors, except population and gluten-free restaurant density, what would be the top 5 capitals to open that restaurant?\n",
    "2.\tThink and propose a couple of other ways this dataset could be used to help businesses.\n"
   ]
  },
  {
   "cell_type": "markdown",
   "id": "35b0eac0",
   "metadata": {},
   "source": [
    "### 1.\tIn the assets directory, you will see a very small dataset called europe_capitals_population_and_area.csv. A gluten-free restaurant wants to open a new restaurant in a European capital where gluten-free restaurants are underrepresented. Assuming there are no other factors, except population and gluten-free restaurant density, what would be the top 5 capitals to open that restaurant?"
   ]
  },
  {
   "cell_type": "code",
   "execution_count": 41,
   "id": "7c7633f1",
   "metadata": {},
   "outputs": [],
   "source": [
    "#Use all of data once.\n",
    "europe_data = pd.read_csv(\"assets\\europe_capitals_population_and_area.csv\",sep =\";\")"
   ]
  },
  {
   "cell_type": "code",
   "execution_count": 42,
   "id": "f0020996",
   "metadata": {},
   "outputs": [
    {
     "name": "stdout",
     "output_type": "stream",
     "text": [
      "<class 'pandas.core.frame.DataFrame'>\n",
      "RangeIndex: 31 entries, 0 to 30\n",
      "Data columns (total 5 columns):\n",
      " #   Column        Non-Null Count  Dtype \n",
      "---  ------        --------------  ----- \n",
      " 0   CityNo        31 non-null     int64 \n",
      " 1   City          31 non-null     object\n",
      " 2   Country       31 non-null     object\n",
      " 3   Population    31 non-null     int64 \n",
      " 4   Area in km2   31 non-null     object\n",
      "dtypes: int64(2), object(3)\n",
      "memory usage: 1.3+ KB\n"
     ]
    }
   ],
   "source": [
    "europe_data.info()"
   ]
  },
  {
   "cell_type": "code",
   "execution_count": 43,
   "id": "02250244",
   "metadata": {},
   "outputs": [
    {
     "data": {
      "text/html": [
       "<div>\n",
       "<style scoped>\n",
       "    .dataframe tbody tr th:only-of-type {\n",
       "        vertical-align: middle;\n",
       "    }\n",
       "\n",
       "    .dataframe tbody tr th {\n",
       "        vertical-align: top;\n",
       "    }\n",
       "\n",
       "    .dataframe thead th {\n",
       "        text-align: right;\n",
       "    }\n",
       "</style>\n",
       "<table border=\"1\" class=\"dataframe\">\n",
       "  <thead>\n",
       "    <tr style=\"text-align: right;\">\n",
       "      <th></th>\n",
       "      <th>CityNo</th>\n",
       "      <th>City</th>\n",
       "      <th>Country</th>\n",
       "      <th>Population</th>\n",
       "      <th>Area in km2</th>\n",
       "    </tr>\n",
       "  </thead>\n",
       "  <tbody>\n",
       "    <tr>\n",
       "      <th>16</th>\n",
       "      <td>17</td>\n",
       "      <td>London</td>\n",
       "      <td>England</td>\n",
       "      <td>8825000</td>\n",
       "      <td>607</td>\n",
       "    </tr>\n",
       "    <tr>\n",
       "      <th>3</th>\n",
       "      <td>4</td>\n",
       "      <td>Berlin</td>\n",
       "      <td>Germany</td>\n",
       "      <td>3711930</td>\n",
       "      <td>891,7</td>\n",
       "    </tr>\n",
       "    <tr>\n",
       "      <th>19</th>\n",
       "      <td>20</td>\n",
       "      <td>Madrid</td>\n",
       "      <td>Spain</td>\n",
       "      <td>3141991</td>\n",
       "      <td>604,3</td>\n",
       "    </tr>\n",
       "    <tr>\n",
       "      <th>26</th>\n",
       "      <td>27</td>\n",
       "      <td>Rome</td>\n",
       "      <td>Italy</td>\n",
       "      <td>2868782</td>\n",
       "      <td>1285</td>\n",
       "    </tr>\n",
       "    <tr>\n",
       "      <th>24</th>\n",
       "      <td>25</td>\n",
       "      <td>Paris</td>\n",
       "      <td>France</td>\n",
       "      <td>2206488</td>\n",
       "      <td>105,4</td>\n",
       "    </tr>\n",
       "    <tr>\n",
       "      <th>28</th>\n",
       "      <td>29</td>\n",
       "      <td>Vienna</td>\n",
       "      <td>Austria</td>\n",
       "      <td>1889083</td>\n",
       "      <td>414,6</td>\n",
       "    </tr>\n",
       "    <tr>\n",
       "      <th>11</th>\n",
       "      <td>12</td>\n",
       "      <td>Hamburg</td>\n",
       "      <td>Germany</td>\n",
       "      <td>1822445</td>\n",
       "      <td>755</td>\n",
       "    </tr>\n",
       "    <tr>\n",
       "      <th>6</th>\n",
       "      <td>7</td>\n",
       "      <td>Budapest</td>\n",
       "      <td>Hungary</td>\n",
       "      <td>1779361</td>\n",
       "      <td>525,2</td>\n",
       "    </tr>\n",
       "    <tr>\n",
       "      <th>29</th>\n",
       "      <td>30</td>\n",
       "      <td>Warsaw</td>\n",
       "      <td>Poland</td>\n",
       "      <td>1764615</td>\n",
       "      <td>517</td>\n",
       "    </tr>\n",
       "    <tr>\n",
       "      <th>2</th>\n",
       "      <td>4</td>\n",
       "      <td>Barcelona</td>\n",
       "      <td>Spain</td>\n",
       "      <td>1620809</td>\n",
       "      <td>101,4</td>\n",
       "    </tr>\n",
       "  </tbody>\n",
       "</table>\n",
       "</div>"
      ],
      "text/plain": [
       "    CityNo       City  Country  Population Area in km2 \n",
       "16      17     London  England     8825000          607\n",
       "3        4     Berlin  Germany     3711930        891,7\n",
       "19      20     Madrid    Spain     3141991        604,3\n",
       "26      27       Rome    Italy     2868782         1285\n",
       "24      25      Paris   France     2206488        105,4\n",
       "28      29     Vienna  Austria     1889083        414,6\n",
       "11      12    Hamburg  Germany     1822445          755\n",
       "6        7   Budapest  Hungary     1779361        525,2\n",
       "29      30     Warsaw   Poland     1764615          517\n",
       "2        4  Barcelona    Spain     1620809        101,4"
      ]
     },
     "execution_count": 43,
     "metadata": {},
     "output_type": "execute_result"
    }
   ],
   "source": [
    "europe_data.sort_values(ascending = False,by=\"Population\").head(10)"
   ]
  },
  {
   "cell_type": "code",
   "execution_count": 44,
   "id": "74e49713",
   "metadata": {},
   "outputs": [],
   "source": [
    "elected_data = full_data[full_data[\"city\"].isin(europe_data[\"City\"].tolist())].reset_index(drop=True)"
   ]
  },
  {
   "cell_type": "code",
   "execution_count": 45,
   "id": "e2923453",
   "metadata": {},
   "outputs": [
    {
     "data": {
      "text/plain": [
       "array(['Paris', 'Lyon', 'Amsterdam', 'Zurich', 'Munich', 'Vienna',\n",
       "       'Madrid', 'Rome', 'Milan', 'Dublin', 'Stockholm', 'Athens',\n",
       "       'Lisbon', 'Bratislava', 'Prague', 'Budapest', 'Helsinki',\n",
       "       'Copenhagen'], dtype=object)"
      ]
     },
     "execution_count": 45,
     "metadata": {},
     "output_type": "execute_result"
    }
   ],
   "source": [
    "elected_data[\"city\"].unique()"
   ]
  },
  {
   "cell_type": "code",
   "execution_count": 46,
   "id": "d8384b88",
   "metadata": {},
   "outputs": [],
   "source": [
    "merged_df = pd.merge(elected_data, europe_data, left_on=\"city\",right_on='City', how='inner')"
   ]
  },
  {
   "cell_type": "code",
   "execution_count": 47,
   "id": "4eb43fc6",
   "metadata": {
    "scrolled": true
   },
   "outputs": [],
   "source": [
    "df_ver2 = merged_df[[\"City\",\"Population\",\"gluten_free\"]]"
   ]
  },
  {
   "cell_type": "code",
   "execution_count": 48,
   "id": "9ff45b3a",
   "metadata": {},
   "outputs": [
    {
     "data": {
      "text/plain": [
       "City\n",
       "Amsterdam       4352\n",
       "Athens          2915\n",
       "Bratislava      1400\n",
       "Budapest        3557\n",
       "Copenhagen      2445\n",
       "Dublin          2749\n",
       "Helsinki        1708\n",
       "Lisbon          5261\n",
       "Lyon            2930\n",
       "Madrid         12134\n",
       "Milan           8382\n",
       "Munich          3508\n",
       "Paris         418814\n",
       "Prague          6035\n",
       "Rome           12603\n",
       "Stockholm       3292\n",
       "Vienna          4571\n",
       "Zurich             1\n",
       "dtype: int64"
      ]
     },
     "execution_count": 48,
     "metadata": {},
     "output_type": "execute_result"
    }
   ],
   "source": [
    "grouped = df_ver2.groupby('City')\n",
    "grouped.size()"
   ]
  },
  {
   "cell_type": "code",
   "execution_count": 49,
   "id": "96d78f60",
   "metadata": {},
   "outputs": [],
   "source": [
    "# Get the count of rows in each group\n",
    "group_count = grouped.size()"
   ]
  },
  {
   "cell_type": "code",
   "execution_count": 50,
   "id": "22e2d897",
   "metadata": {
    "scrolled": true
   },
   "outputs": [],
   "source": [
    "# Create a new DataFrame with the city and count of restaurants\n",
    "city_count = group_count.to_frame().rename(columns={0:\"all_rest\"}).reset_index()"
   ]
  },
  {
   "cell_type": "code",
   "execution_count": 51,
   "id": "ef8d5135",
   "metadata": {
    "scrolled": true
   },
   "outputs": [
    {
     "data": {
      "text/plain": [
       "City\n",
       "Amsterdam       622\n",
       "Athens          271\n",
       "Bratislava       67\n",
       "Budapest        433\n",
       "Copenhagen      251\n",
       "Dublin          596\n",
       "Helsinki        199\n",
       "Lisbon          537\n",
       "Lyon             54\n",
       "Madrid         1368\n",
       "Milan          1154\n",
       "Munich          256\n",
       "Paris         49791\n",
       "Prague          389\n",
       "Rome           1654\n",
       "Stockholm       366\n",
       "Vienna          413\n",
       "dtype: int64"
      ]
     },
     "execution_count": 51,
     "metadata": {},
     "output_type": "execute_result"
    }
   ],
   "source": [
    "# Get the restourants size witg \"gluten_free\" is \"Y\"\n",
    "df_ver2[df_ver2['gluten_free'] == 'Y'].groupby('City').size()"
   ]
  },
  {
   "cell_type": "code",
   "execution_count": 52,
   "id": "e5eb82e7",
   "metadata": {},
   "outputs": [],
   "source": [
    "#Set index as City\n",
    "city_count = city_count.set_index(\"City\")"
   ]
  },
  {
   "cell_type": "code",
   "execution_count": 53,
   "id": "c1392f3d",
   "metadata": {},
   "outputs": [],
   "source": [
    "# Add a column for gluten-free restaurants\n",
    "city_count['gluten_free_count'] = df_ver2[df_ver2['gluten_free'] == 'Y'].groupby('City').size()"
   ]
  },
  {
   "cell_type": "code",
   "execution_count": 54,
   "id": "e5f43265",
   "metadata": {},
   "outputs": [],
   "source": [
    "city_count = pd.merge(city_count,europe_data[[\"City\",\"Population\"]],left_on=\"City\",right_on=\"City\")"
   ]
  },
  {
   "cell_type": "code",
   "execution_count": 55,
   "id": "a1f6013b",
   "metadata": {},
   "outputs": [],
   "source": [
    "# Add a column for percentage of gluten-free restaurants\n",
    "city_count['gluten_free_percentage'] = (city_count['gluten_free_count']/city_count[\"all_rest\"])*100"
   ]
  },
  {
   "cell_type": "code",
   "execution_count": 56,
   "id": "6d318e42",
   "metadata": {},
   "outputs": [],
   "source": [
    "city_count['restaurant_per_person'] = (city_count[\"all_rest\"]/city_count['Population'])"
   ]
  },
  {
   "cell_type": "code",
   "execution_count": 57,
   "id": "fd168269",
   "metadata": {
    "scrolled": true
   },
   "outputs": [],
   "source": [
    "# Sort and fix data\n",
    "city_count = city_count.sort_values(by=['gluten_free_percentage','restaurant_per_person'],ascending=False).reset_index()"
   ]
  },
  {
   "cell_type": "code",
   "execution_count": 58,
   "id": "b194c78c",
   "metadata": {
    "scrolled": false
   },
   "outputs": [
    {
     "data": {
      "text/html": [
       "<div>\n",
       "<style scoped>\n",
       "    .dataframe tbody tr th:only-of-type {\n",
       "        vertical-align: middle;\n",
       "    }\n",
       "\n",
       "    .dataframe tbody tr th {\n",
       "        vertical-align: top;\n",
       "    }\n",
       "\n",
       "    .dataframe thead th {\n",
       "        text-align: right;\n",
       "    }\n",
       "</style>\n",
       "<table border=\"1\" class=\"dataframe\">\n",
       "  <thead>\n",
       "    <tr style=\"text-align: right;\">\n",
       "      <th></th>\n",
       "      <th>index</th>\n",
       "      <th>City</th>\n",
       "      <th>all_rest</th>\n",
       "      <th>gluten_free_count</th>\n",
       "      <th>Population</th>\n",
       "      <th>gluten_free_percentage</th>\n",
       "      <th>restaurant_per_person</th>\n",
       "    </tr>\n",
       "  </thead>\n",
       "  <tbody>\n",
       "    <tr>\n",
       "      <th>12</th>\n",
       "      <td>16</td>\n",
       "      <td>Vienna</td>\n",
       "      <td>4571</td>\n",
       "      <td>413.0</td>\n",
       "      <td>1889083</td>\n",
       "      <td>9.035222</td>\n",
       "      <td>0.002420</td>\n",
       "    </tr>\n",
       "    <tr>\n",
       "      <th>13</th>\n",
       "      <td>11</td>\n",
       "      <td>Munich</td>\n",
       "      <td>3508</td>\n",
       "      <td>256.0</td>\n",
       "      <td>1456039</td>\n",
       "      <td>7.297605</td>\n",
       "      <td>0.002409</td>\n",
       "    </tr>\n",
       "    <tr>\n",
       "      <th>14</th>\n",
       "      <td>13</td>\n",
       "      <td>Prague</td>\n",
       "      <td>6035</td>\n",
       "      <td>389.0</td>\n",
       "      <td>1301132</td>\n",
       "      <td>6.445733</td>\n",
       "      <td>0.004638</td>\n",
       "    </tr>\n",
       "    <tr>\n",
       "      <th>15</th>\n",
       "      <td>2</td>\n",
       "      <td>Bratislava</td>\n",
       "      <td>1400</td>\n",
       "      <td>67.0</td>\n",
       "      <td>424428</td>\n",
       "      <td>4.785714</td>\n",
       "      <td>0.003299</td>\n",
       "    </tr>\n",
       "    <tr>\n",
       "      <th>16</th>\n",
       "      <td>8</td>\n",
       "      <td>Lyon</td>\n",
       "      <td>2930</td>\n",
       "      <td>54.0</td>\n",
       "      <td>506615</td>\n",
       "      <td>1.843003</td>\n",
       "      <td>0.005783</td>\n",
       "    </tr>\n",
       "  </tbody>\n",
       "</table>\n",
       "</div>"
      ],
      "text/plain": [
       "    index        City  all_rest  gluten_free_count  Population  \\\n",
       "12     16      Vienna      4571              413.0     1889083   \n",
       "13     11      Munich      3508              256.0     1456039   \n",
       "14     13      Prague      6035              389.0     1301132   \n",
       "15      2  Bratislava      1400               67.0      424428   \n",
       "16      8        Lyon      2930               54.0      506615   \n",
       "\n",
       "    gluten_free_percentage  restaurant_per_person  \n",
       "12                9.035222               0.002420  \n",
       "13                7.297605               0.002409  \n",
       "14                6.445733               0.004638  \n",
       "15                4.785714               0.003299  \n",
       "16                1.843003               0.005783  "
      ]
     },
     "execution_count": 58,
     "metadata": {},
     "output_type": "execute_result"
    }
   ],
   "source": [
    "city_count.dropna().tail(5)"
   ]
  },
  {
   "cell_type": "markdown",
   "id": "5260abb2",
   "metadata": {},
   "source": [
    "## \t\t<span style=\"color:orange\">Conclusion</span> "
   ]
  },
  {
   "cell_type": "markdown",
   "id": "3e92b937",
   "metadata": {},
   "source": [
    " The table has 4 columns: City, all_rest, gluten_free_count, and gluten_free_percentage.\n",
    "\n",
    "The City column lists the different cities.\n",
    "The all_rest column lists the total number of restaurants in each city.\n",
    "The gluten_free_count column lists the number of gluten-free restaurants in each city.\n",
    "The gluten_free_percentage column lists the percentage of gluten-free restaurants in each city, calculated by dividing the gluten_free_count by all_rest.\n",
    "\n",
    "According to the data, Munich, Prague, Bratislava, Paris and Lyon are the cities that are listed in the dataframe. Assuming there are no other factors, except population and gluten-free restaurant density yhe best capital for the open restourant is Lyon."
   ]
  },
  {
   "cell_type": "markdown",
   "id": "d787b91c",
   "metadata": {},
   "source": [
    "## 2.\tThink and propose a couple of other ways this dataset could be used to help businesses."
   ]
  },
  {
   "cell_type": "markdown",
   "id": "f9bbe6f9",
   "metadata": {},
   "source": [
    "### 2.1 Most Frequent Cuisines All Around The Europe.\n",
    "\n",
    "This script loads the dataset into a pandas DataFrame, groups the data by city and cuisines, counts the number of restaurants in each city and cuisines, sorts the data in descending order, and prints the top 10 cusines by city."
   ]
  },
  {
   "cell_type": "code",
   "execution_count": 59,
   "id": "aa01a20d",
   "metadata": {},
   "outputs": [],
   "source": [
    "merged_df['cuisines'] = merged_df['cuisines'].astype(\"str\")\n",
    "df_cuisines = merged_df['cuisines'].apply(lambda x: pd.Series(x.split(','))).stack().reset_index(level=1, drop=True).to_frame('cuisines')"
   ]
  },
  {
   "cell_type": "code",
   "execution_count": 60,
   "id": "e4a697b3",
   "metadata": {},
   "outputs": [],
   "source": [
    "# Create a new dataframe with one row per cuisine\n",
    "df_cuisines = merged_df['cuisines'].str.split(',').apply(pd.Series, 1).stack()\n",
    "df_cuisines.index = df_cuisines.index.droplevel(-1)\n",
    "df_cuisines.name = 'cuisines'\n",
    "df_cuisines = df_cuisines.reset_index()"
   ]
  },
  {
   "cell_type": "code",
   "execution_count": 61,
   "id": "63af2dd1",
   "metadata": {},
   "outputs": [],
   "source": [
    "df_cuisines = pd.merge(df_cuisines, merged_df[['city']].reset_index(),left_on=\"index\",right_on=\"index\")"
   ]
  },
  {
   "cell_type": "code",
   "execution_count": 62,
   "id": "7330f770",
   "metadata": {},
   "outputs": [
    {
     "data": {
      "text/html": [
       "<div>\n",
       "<style scoped>\n",
       "    .dataframe tbody tr th:only-of-type {\n",
       "        vertical-align: middle;\n",
       "    }\n",
       "\n",
       "    .dataframe tbody tr th {\n",
       "        vertical-align: top;\n",
       "    }\n",
       "\n",
       "    .dataframe thead th {\n",
       "        text-align: right;\n",
       "    }\n",
       "</style>\n",
       "<table border=\"1\" class=\"dataframe\">\n",
       "  <thead>\n",
       "    <tr style=\"text-align: right;\">\n",
       "      <th></th>\n",
       "      <th>index</th>\n",
       "      <th>cuisines</th>\n",
       "      <th>city</th>\n",
       "    </tr>\n",
       "  </thead>\n",
       "  <tbody>\n",
       "    <tr>\n",
       "      <th>0</th>\n",
       "      <td>0</td>\n",
       "      <td>French</td>\n",
       "      <td>Paris</td>\n",
       "    </tr>\n",
       "    <tr>\n",
       "      <th>1</th>\n",
       "      <td>1</td>\n",
       "      <td>Moroccan</td>\n",
       "      <td>Paris</td>\n",
       "    </tr>\n",
       "    <tr>\n",
       "      <th>2</th>\n",
       "      <td>1</td>\n",
       "      <td>Mediterranean</td>\n",
       "      <td>Paris</td>\n",
       "    </tr>\n",
       "    <tr>\n",
       "      <th>3</th>\n",
       "      <td>2</td>\n",
       "      <td>French</td>\n",
       "      <td>Paris</td>\n",
       "    </tr>\n",
       "    <tr>\n",
       "      <th>4</th>\n",
       "      <td>3</td>\n",
       "      <td>French</td>\n",
       "      <td>Paris</td>\n",
       "    </tr>\n",
       "    <tr>\n",
       "      <th>...</th>\n",
       "      <td>...</td>\n",
       "      <td>...</td>\n",
       "      <td>...</td>\n",
       "    </tr>\n",
       "    <tr>\n",
       "      <th>1169840</th>\n",
       "      <td>496654</td>\n",
       "      <td>Street Food</td>\n",
       "      <td>Copenhagen</td>\n",
       "    </tr>\n",
       "    <tr>\n",
       "      <th>1169841</th>\n",
       "      <td>496654</td>\n",
       "      <td>Danish</td>\n",
       "      <td>Copenhagen</td>\n",
       "    </tr>\n",
       "    <tr>\n",
       "      <th>1169842</th>\n",
       "      <td>496655</td>\n",
       "      <td>Asian</td>\n",
       "      <td>Copenhagen</td>\n",
       "    </tr>\n",
       "    <tr>\n",
       "      <th>1169843</th>\n",
       "      <td>496655</td>\n",
       "      <td>Thai</td>\n",
       "      <td>Copenhagen</td>\n",
       "    </tr>\n",
       "    <tr>\n",
       "      <th>1169844</th>\n",
       "      <td>496656</td>\n",
       "      <td>Italian</td>\n",
       "      <td>Copenhagen</td>\n",
       "    </tr>\n",
       "  </tbody>\n",
       "</table>\n",
       "<p>1169845 rows × 3 columns</p>\n",
       "</div>"
      ],
      "text/plain": [
       "          index        cuisines        city\n",
       "0             0          French       Paris\n",
       "1             1        Moroccan       Paris\n",
       "2             1   Mediterranean       Paris\n",
       "3             2          French       Paris\n",
       "4             3          French       Paris\n",
       "...         ...             ...         ...\n",
       "1169840  496654     Street Food  Copenhagen\n",
       "1169841  496654          Danish  Copenhagen\n",
       "1169842  496655           Asian  Copenhagen\n",
       "1169843  496655            Thai  Copenhagen\n",
       "1169844  496656         Italian  Copenhagen\n",
       "\n",
       "[1169845 rows x 3 columns]"
      ]
     },
     "execution_count": 62,
     "metadata": {},
     "output_type": "execute_result"
    }
   ],
   "source": [
    "df_cuisines"
   ]
  },
  {
   "cell_type": "code",
   "execution_count": 63,
   "id": "d26f873c",
   "metadata": {},
   "outputs": [],
   "source": [
    "# Group the data by city and cuisines\n",
    "grouped_data = df_cuisines.groupby(['cuisines','city']).size().reset_index(name='count')\n",
    "\n",
    "# Sort the data by the number of restaurants, in descending order\n",
    "grouped_data.sort_values(by='count', ascending=False, inplace=True)"
   ]
  },
  {
   "cell_type": "code",
   "execution_count": 64,
   "id": "1d536a24",
   "metadata": {},
   "outputs": [
    {
     "data": {
      "text/html": [
       "<div>\n",
       "<style scoped>\n",
       "    .dataframe tbody tr th:only-of-type {\n",
       "        vertical-align: middle;\n",
       "    }\n",
       "\n",
       "    .dataframe tbody tr th {\n",
       "        vertical-align: top;\n",
       "    }\n",
       "\n",
       "    .dataframe thead th {\n",
       "        text-align: right;\n",
       "    }\n",
       "</style>\n",
       "<table border=\"1\" class=\"dataframe\">\n",
       "  <thead>\n",
       "    <tr style=\"text-align: right;\">\n",
       "      <th></th>\n",
       "      <th>cuisines</th>\n",
       "      <th>city</th>\n",
       "      <th>count</th>\n",
       "    </tr>\n",
       "  </thead>\n",
       "  <tbody>\n",
       "    <tr>\n",
       "      <th>2553</th>\n",
       "      <td>Italian</td>\n",
       "      <td>Paris</td>\n",
       "      <td>205505</td>\n",
       "    </tr>\n",
       "    <tr>\n",
       "      <th>1163</th>\n",
       "      <td>Mediterranean</td>\n",
       "      <td>Paris</td>\n",
       "      <td>73131</td>\n",
       "    </tr>\n",
       "    <tr>\n",
       "      <th>693</th>\n",
       "      <td>European</td>\n",
       "      <td>Paris</td>\n",
       "      <td>55672</td>\n",
       "    </tr>\n",
       "    <tr>\n",
       "      <th>1359</th>\n",
       "      <td>Pizza</td>\n",
       "      <td>Paris</td>\n",
       "      <td>48770</td>\n",
       "    </tr>\n",
       "    <tr>\n",
       "      <th>1510</th>\n",
       "      <td>Seafood</td>\n",
       "      <td>Paris</td>\n",
       "      <td>38508</td>\n",
       "    </tr>\n",
       "    <tr>\n",
       "      <th>1621</th>\n",
       "      <td>Spanish</td>\n",
       "      <td>Paris</td>\n",
       "      <td>32815</td>\n",
       "    </tr>\n",
       "    <tr>\n",
       "      <th>1404</th>\n",
       "      <td>Pub</td>\n",
       "      <td>Paris</td>\n",
       "      <td>27906</td>\n",
       "    </tr>\n",
       "    <tr>\n",
       "      <th>2926</th>\n",
       "      <td>Spanish</td>\n",
       "      <td>Paris</td>\n",
       "      <td>26775</td>\n",
       "    </tr>\n",
       "    <tr>\n",
       "      <th>2646</th>\n",
       "      <td>Mediterranean</td>\n",
       "      <td>Paris</td>\n",
       "      <td>23792</td>\n",
       "    </tr>\n",
       "    <tr>\n",
       "      <th>2095</th>\n",
       "      <td>Cafe</td>\n",
       "      <td>Paris</td>\n",
       "      <td>19040</td>\n",
       "    </tr>\n",
       "  </tbody>\n",
       "</table>\n",
       "</div>"
      ],
      "text/plain": [
       "            cuisines   city   count\n",
       "2553         Italian  Paris  205505\n",
       "1163   Mediterranean  Paris   73131\n",
       "693         European  Paris   55672\n",
       "1359           Pizza  Paris   48770\n",
       "1510         Seafood  Paris   38508\n",
       "1621         Spanish  Paris   32815\n",
       "1404             Pub  Paris   27906\n",
       "2926         Spanish  Paris   26775\n",
       "2646   Mediterranean  Paris   23792\n",
       "2095            Cafe  Paris   19040"
      ]
     },
     "execution_count": 64,
     "metadata": {},
     "output_type": "execute_result"
    }
   ],
   "source": [
    "grouped_data[grouped_data[\"cuisines\"] != \"nan\"].head(10)"
   ]
  },
  {
   "cell_type": "markdown",
   "id": "efce6625",
   "metadata": {},
   "source": [
    "## 2.2 Location analysis:\n",
    "\tThe latitude and longitude information in the dataset could be used to identify high-traffic areas or areas with a high concentration of restaurants. This information could be used to help businesses choose a location for a new restaurant or identify areas where there may be opportunities for expansion."
   ]
  },
  {
   "cell_type": "code",
   "execution_count": 65,
   "id": "6cc340f6",
   "metadata": {},
   "outputs": [],
   "source": [
    "loc_data = merged_df[[\"restaurant_name\",\"latitude\",\"longitude\"]].dropna(subset=['latitude', 'latitude']).reset_index(drop=True).head(100)"
   ]
  },
  {
   "cell_type": "code",
   "execution_count": 66,
   "id": "97539638",
   "metadata": {},
   "outputs": [],
   "source": [
    "from folium import Map, Marker\n",
    "\n",
    "# Create a map object\n",
    "m = Map(location=[loc_data['latitude'].mean(), loc_data['longitude'].mean()], zoom_start=13)\n",
    "\n",
    "# Add markers for each restaurant to the map\n",
    "for i, row in loc_data.iterrows():\n",
    "    Marker(location=[row['latitude'], row['longitude']]).add_to(m)\n",
    "\n",
    "# Show the map\n",
    "m.save('maps/map.html')"
   ]
  },
  {
   "cell_type": "markdown",
   "id": "79598bd3",
   "metadata": {},
   "source": [
    "![Paris map](https://i.hizliresim.com/dcqzxv5.jpg)"
   ]
  },
  {
   "cell_type": "code",
   "execution_count": 67,
   "id": "05969d10",
   "metadata": {},
   "outputs": [],
   "source": [
    "import folium\n",
    "from folium.plugins import HeatMap\n",
    "\n",
    "heat_data = merged_df[[\"restaurant_name\",\"latitude\",\"longitude\"]].dropna(subset=['latitude', 'latitude']).reset_index(drop=True)\n",
    "\n",
    "m = folium.Map(location=[heat_data['latitude'].mean(), heat_data['longitude'].mean()], zoom_start=13)\n",
    "\n",
    "# Add a heatmap of the restaurants to the map\n",
    "heatmap = HeatMap(data=heat_data[['latitude', 'longitude']], name='Restaurants', radius =30, overlay=True, control=False)\n",
    "heatmap.add_to(m)\n",
    "\n",
    "# Add a layer control to turn the heatmap on and off\n",
    "folium.LayerControl().add_to(m)\n",
    "\n",
    "# Show the map\n",
    "m.save('maps/map1.html')"
   ]
  },
  {
   "cell_type": "markdown",
   "id": "20deaaa4",
   "metadata": {},
   "source": [
    "![world map](https://i.hizliresim.com/loqxyf6.jpg)"
   ]
  },
  {
   "cell_type": "markdown",
   "id": "229d00d4",
   "metadata": {},
   "source": [
    "## \t<span style=\"color:orange\">BONUS</span> "
   ]
  },
  {
   "cell_type": "markdown",
   "id": "15d7ba38",
   "metadata": {},
   "source": [
    "1.\tIn the assets directory, you will see a file called paris_bounding_polygon.json. This contains a list of latitude and longitude coordinates that define a polygon that is considered to represent the Paris city area. For simplicity, we assume the population distribution is uniform in the Paris city area. An Italian restaurant wants to open a restaurant in Paris in a zone where there are the fewest Italian restaurants. What is the best location to open the restaurant (the answer can be a single point or a bounding box/polygonal region depending on the implementation)?"
   ]
  },
  {
   "cell_type": "code",
   "execution_count": 68,
   "id": "8baf0c0f",
   "metadata": {},
   "outputs": [],
   "source": [
    "import json \n",
    " \n",
    "# Opening JSON file\n",
    "f = open('assets\\paris_bounding_polygon.json')\n",
    "  \n",
    "# returns JSON object as \n",
    "# a dictionary\n",
    "data = json.load(f)"
   ]
  },
  {
   "cell_type": "code",
   "execution_count": 69,
   "id": "3cd39f50",
   "metadata": {},
   "outputs": [
    {
     "data": {
      "text/html": [
       "<div>\n",
       "<style scoped>\n",
       "    .dataframe tbody tr th:only-of-type {\n",
       "        vertical-align: middle;\n",
       "    }\n",
       "\n",
       "    .dataframe tbody tr th {\n",
       "        vertical-align: top;\n",
       "    }\n",
       "\n",
       "    .dataframe thead th {\n",
       "        text-align: right;\n",
       "    }\n",
       "</style>\n",
       "<table border=\"1\" class=\"dataframe\">\n",
       "  <thead>\n",
       "    <tr style=\"text-align: right;\">\n",
       "      <th></th>\n",
       "      <th>long</th>\n",
       "      <th>lat</th>\n",
       "    </tr>\n",
       "  </thead>\n",
       "  <tbody>\n",
       "    <tr>\n",
       "      <th>0</th>\n",
       "      <td>2.224169</td>\n",
       "      <td>48.853442</td>\n",
       "    </tr>\n",
       "    <tr>\n",
       "      <th>1</th>\n",
       "      <td>2.224161</td>\n",
       "      <td>48.853478</td>\n",
       "    </tr>\n",
       "    <tr>\n",
       "      <th>2</th>\n",
       "      <td>2.224143</td>\n",
       "      <td>48.853578</td>\n",
       "    </tr>\n",
       "    <tr>\n",
       "      <th>3</th>\n",
       "      <td>2.224135</td>\n",
       "      <td>48.853654</td>\n",
       "    </tr>\n",
       "    <tr>\n",
       "      <th>4</th>\n",
       "      <td>2.224129</td>\n",
       "      <td>48.853759</td>\n",
       "    </tr>\n",
       "  </tbody>\n",
       "</table>\n",
       "</div>"
      ],
      "text/plain": [
       "       long        lat\n",
       "0  2.224169  48.853442\n",
       "1  2.224161  48.853478\n",
       "2  2.224143  48.853578\n",
       "3  2.224135  48.853654\n",
       "4  2.224129  48.853759"
      ]
     },
     "execution_count": 69,
     "metadata": {},
     "output_type": "execute_result"
    }
   ],
   "source": [
    "import pandas as pd\n",
    "df = pd.DataFrame(data, columns = [\"long\",\"lat\"])\n",
    "df.head()"
   ]
  },
  {
   "cell_type": "code",
   "execution_count": 70,
   "id": "b0c01854",
   "metadata": {},
   "outputs": [],
   "source": [
    "m = Map(location=[df['lat'].mean(), df['long'].mean()], zoom_start=13)\n",
    "\n",
    "# Add markers for each restaurant to the map\n",
    "for i, row in df.iterrows():\n",
    "    Marker(location=[row['lat'], row['long']]).add_to(m)\n",
    "\n",
    "# Show the map\n",
    "m.save('maps/map2.html')"
   ]
  },
  {
   "cell_type": "markdown",
   "id": "3be6915b",
   "metadata": {},
   "source": [
    "![parparis map](https://i.hizliresim.com/qncu667.jpg)"
   ]
  },
  {
   "cell_type": "code",
   "execution_count": 71,
   "id": "ec9bab47",
   "metadata": {},
   "outputs": [],
   "source": [
    "merged_df['cuisines'] = merged_df['cuisines'].astype(\"str\")\n",
    "df_cuisines = merged_df['cuisines'].apply(lambda x: pd.Series(x.split(','))).stack().reset_index(level=1, drop=True).to_frame('cuisines')"
   ]
  },
  {
   "cell_type": "code",
   "execution_count": 72,
   "id": "bf2ca556",
   "metadata": {},
   "outputs": [],
   "source": [
    "# Create a new dataframe with one row per cuisine\n",
    "df_cuisines = merged_df['cuisines'].str.split(',').apply(pd.Series, 1).stack()\n",
    "df_cuisines.index = df_cuisines.index.droplevel(-1)\n",
    "df_cuisines.name = 'cuisines'\n",
    "df_cuisines = df_cuisines.reset_index()"
   ]
  },
  {
   "cell_type": "code",
   "execution_count": 73,
   "id": "8cdab2ea",
   "metadata": {},
   "outputs": [],
   "source": [
    "df_cuisines = pd.merge(df_cuisines, merged_df[['city','latitude','longitude']].reset_index(),left_on=\"index\",right_on=\"index\")"
   ]
  },
  {
   "cell_type": "code",
   "execution_count": 74,
   "id": "df6d6c27",
   "metadata": {
    "scrolled": true
   },
   "outputs": [],
   "source": [
    "bonus_df = df_cuisines[(df_cuisines[\"cuisines\"] == \"Italian\") & (df_cuisines[\"city\"] == \"Paris\") ].drop_duplicates(subset=[\"cuisines\",\"city\",\"latitude\",\"longitude\"]).dropna()"
   ]
  },
  {
   "cell_type": "code",
   "execution_count": 75,
   "id": "5ee57be2",
   "metadata": {},
   "outputs": [],
   "source": [
    "from shapely.geometry import Point, Polygon"
   ]
  },
  {
   "cell_type": "code",
   "execution_count": 76,
   "id": "067859b2",
   "metadata": {},
   "outputs": [],
   "source": [
    "checklist = []\n",
    "# x, y are the longitude and latitude of the point\n",
    "polygon = Polygon([(row.long, row.lat) for _, row in df.iterrows()])\n",
    "\n",
    "for ind,row in bonus_df.iterrows():\n",
    "    \n",
    "    point = Point((row[\"longitude\"],row[\"latitude\"]))\n",
    "    polygon.contains(point) \n",
    "    checklist.append(polygon.contains(point))\n",
    "    "
   ]
  },
  {
   "cell_type": "code",
   "execution_count": 77,
   "id": "92a03694",
   "metadata": {},
   "outputs": [],
   "source": [
    "bonus_df = bonus_df[checklist]"
   ]
  },
  {
   "cell_type": "markdown",
   "id": "72b707eb",
   "metadata": {},
   "source": [
    "The function takes the dataframe as the first parameter, eps and min_samples as the second and third parameters respectively. By default, eps is set to 0.00015, and min_samples is set to 10."
   ]
  },
  {
   "cell_type": "code",
   "execution_count": 78,
   "id": "0878f6d6",
   "metadata": {},
   "outputs": [],
   "source": [
    "from sklearn.cluster import DBSCAN\n",
    "import numpy as np\n",
    "def DBSCAN_outliers(data, eps=0.00015, min_samples=10):\n",
    "    \n",
    "    coords = data[['latitude', 'longitude']].values\n",
    "    db = DBSCAN(eps=eps, min_samples=min_samples, algorithm='ball_tree', metric='haversine').fit(np.radians(coords))\n",
    "    data['cluster'] = db.labels_\n",
    "    clusters = data.groupby('cluster')\n",
    "    outliers = data[data.cluster == -1]\n",
    "    return outliers"
   ]
  },
  {
   "cell_type": "markdown",
   "id": "4f23b197",
   "metadata": {},
   "source": [
    "DBSCAN groups points into clusters based on a distance metric and a density threshold. Points that are far away from any cluster are considered outliers."
   ]
  },
  {
   "cell_type": "code",
   "execution_count": 79,
   "id": "c3d258f2",
   "metadata": {},
   "outputs": [],
   "source": [
    "outliers = DBSCAN_outliers(bonus_df)"
   ]
  },
  {
   "cell_type": "code",
   "execution_count": 80,
   "id": "42cc4605",
   "metadata": {
    "scrolled": true
   },
   "outputs": [
    {
     "data": {
      "text/html": [
       "<div>\n",
       "<style scoped>\n",
       "    .dataframe tbody tr th:only-of-type {\n",
       "        vertical-align: middle;\n",
       "    }\n",
       "\n",
       "    .dataframe tbody tr th {\n",
       "        vertical-align: top;\n",
       "    }\n",
       "\n",
       "    .dataframe thead th {\n",
       "        text-align: right;\n",
       "    }\n",
       "</style>\n",
       "<table border=\"1\" class=\"dataframe\">\n",
       "  <thead>\n",
       "    <tr style=\"text-align: right;\">\n",
       "      <th></th>\n",
       "      <th>index</th>\n",
       "      <th>cuisines</th>\n",
       "      <th>city</th>\n",
       "      <th>latitude</th>\n",
       "      <th>longitude</th>\n",
       "      <th>cluster</th>\n",
       "    </tr>\n",
       "  </thead>\n",
       "  <tbody>\n",
       "    <tr>\n",
       "      <th>7185</th>\n",
       "      <td>3579</td>\n",
       "      <td>Italian</td>\n",
       "      <td>Paris</td>\n",
       "      <td>48.820076</td>\n",
       "      <td>2.444331</td>\n",
       "      <td>-1</td>\n",
       "    </tr>\n",
       "    <tr>\n",
       "      <th>10261</th>\n",
       "      <td>5062</td>\n",
       "      <td>Italian</td>\n",
       "      <td>Paris</td>\n",
       "      <td>48.877490</td>\n",
       "      <td>2.270330</td>\n",
       "      <td>-1</td>\n",
       "    </tr>\n",
       "    <tr>\n",
       "      <th>26858</th>\n",
       "      <td>13509</td>\n",
       "      <td>Italian</td>\n",
       "      <td>Paris</td>\n",
       "      <td>48.874100</td>\n",
       "      <td>2.262980</td>\n",
       "      <td>-1</td>\n",
       "    </tr>\n",
       "    <tr>\n",
       "      <th>30119</th>\n",
       "      <td>15150</td>\n",
       "      <td>Italian</td>\n",
       "      <td>Paris</td>\n",
       "      <td>48.863937</td>\n",
       "      <td>2.250879</td>\n",
       "      <td>-1</td>\n",
       "    </tr>\n",
       "    <tr>\n",
       "      <th>34277</th>\n",
       "      <td>17178</td>\n",
       "      <td>Italian</td>\n",
       "      <td>Paris</td>\n",
       "      <td>48.823490</td>\n",
       "      <td>2.460560</td>\n",
       "      <td>-1</td>\n",
       "    </tr>\n",
       "  </tbody>\n",
       "</table>\n",
       "</div>"
      ],
      "text/plain": [
       "       index cuisines   city   latitude  longitude  cluster\n",
       "7185    3579  Italian  Paris  48.820076   2.444331       -1\n",
       "10261   5062  Italian  Paris  48.877490   2.270330       -1\n",
       "26858  13509  Italian  Paris  48.874100   2.262980       -1\n",
       "30119  15150  Italian  Paris  48.863937   2.250879       -1\n",
       "34277  17178  Italian  Paris  48.823490   2.460560       -1"
      ]
     },
     "execution_count": 80,
     "metadata": {},
     "output_type": "execute_result"
    }
   ],
   "source": [
    "outliers"
   ]
  },
  {
   "cell_type": "code",
   "execution_count": 85,
   "id": "864dc48d",
   "metadata": {},
   "outputs": [],
   "source": [
    "def detect_outliers(data,polygon,outliers,method = \"plot\"):\n",
    "\n",
    "    plt.figure(figsize=(10,6))\n",
    "    if method == \"plot\":\n",
    "    \tsns.scatterplot(x='longitude', y='latitude', data=data)\n",
    "    \tsns.scatterplot(x='longitude', y='latitude', data=outliers, c='Green', s=200)\n",
    "    \tsns.scatterplot(x='long', y='lat', data=polygon, c='Red')\n",
    "    elif method == \"kde\":\n",
    "    \tsns.kdeplot(data.longitude, data.latitude, shade=True)\n",
    "    elif method == \"heat\":    \n",
    "        sns.heatmap(data[['latitude','longitude']], cmap='Reds')\n",
    "    \n",
    "    plt.show()"
   ]
  },
  {
   "cell_type": "code",
   "execution_count": 87,
   "id": "3e3afa4f",
   "metadata": {
    "scrolled": false
   },
   "outputs": [
    {
     "data": {
      "image/png": "[encoded data removed]",
      "text/plain": [
       "<Figure size 1000x600 with 1 Axes>"
      ]
     },
     "metadata": {},
     "output_type": "display_data"
    }
   ],
   "source": [
    "detect_outliers(bonus_df,df,outliers,\"plot\")"
   ]
  },
  {
   "cell_type": "code",
   "execution_count": null,
   "id": "aa423893",
   "metadata": {},
   "outputs": [],
   "source": []
  }
 ],
 "metadata": {
  "kernelspec": {
   "display_name": "env",
   "language": "python",
   "name": "python3"
  },
  "language_info": {
   "codemirror_mode": {
    "name": "ipython",
    "version": 3
   },
   "file_extension": ".py",
   "mimetype": "text/x-python",
   "name": "python",
   "nbconvert_exporter": "python",
   "pygments_lexer": "ipython3",
   "version": "3.9.12"
  },
  "vscode": {
   "interpreter": {
    "hash": "7bfc00ba7c7938583424c753eb9c042f503069a5cb709afcff3fd2538c92419e"
   }
  }
 },
 "nbformat": 4,
 "nbformat_minor": 5
}
